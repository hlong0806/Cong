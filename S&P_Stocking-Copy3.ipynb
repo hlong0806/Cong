{
 "cells": [
  {
   "cell_type": "code",
   "execution_count": 1,
   "metadata": {
    "collapsed": true
   },
   "outputs": [],
   "source": [
    "import pandas as pd\n",
    "import numpy as np\n",
    "import matplotlib.pyplot as plt #matplotlib is used for plotting data\n",
    "import matplotlib.ticker as ticker #used for changing tick spacing\n",
    "import datetime as dt #used for dates\n",
    "import matplotlib.dates as mdates #used for dates, in a different way"
   ]
  },
  {
   "cell_type": "code",
   "execution_count": 2,
   "metadata": {},
   "outputs": [
    {
     "data": {
      "text/plain": [
       "'C:\\\\Users\\\\space\\\\Documents\\\\python'"
      ]
     },
     "execution_count": 2,
     "metadata": {},
     "output_type": "execute_result"
    }
   ],
   "source": [
    "import os\n",
    "os.getcwd() "
   ]
  },
  {
   "cell_type": "code",
   "execution_count": 3,
   "metadata": {
    "collapsed": true
   },
   "outputs": [],
   "source": [
    "df = pd.read_csv(\"./all_stocks_5yr/all_stocks_5yr.csv\")"
   ]
  },
  {
   "cell_type": "code",
   "execution_count": 4,
   "metadata": {},
   "outputs": [
    {
     "data": {
      "text/html": [
       "<div>\n",
       "<style>\n",
       "    .dataframe thead tr:only-child th {\n",
       "        text-align: right;\n",
       "    }\n",
       "\n",
       "    .dataframe thead th {\n",
       "        text-align: left;\n",
       "    }\n",
       "\n",
       "    .dataframe tbody tr th {\n",
       "        vertical-align: top;\n",
       "    }\n",
       "</style>\n",
       "<table border=\"1\" class=\"dataframe\">\n",
       "  <thead>\n",
       "    <tr style=\"text-align: right;\">\n",
       "      <th></th>\n",
       "      <th>date</th>\n",
       "      <th>open</th>\n",
       "      <th>high</th>\n",
       "      <th>low</th>\n",
       "      <th>close</th>\n",
       "      <th>volume</th>\n",
       "      <th>Name</th>\n",
       "    </tr>\n",
       "  </thead>\n",
       "  <tbody>\n",
       "    <tr>\n",
       "      <th>0</th>\n",
       "      <td>2013-02-08</td>\n",
       "      <td>15.07</td>\n",
       "      <td>15.12</td>\n",
       "      <td>14.63</td>\n",
       "      <td>14.75</td>\n",
       "      <td>8407500</td>\n",
       "      <td>AAL</td>\n",
       "    </tr>\n",
       "    <tr>\n",
       "      <th>1</th>\n",
       "      <td>2013-02-11</td>\n",
       "      <td>14.89</td>\n",
       "      <td>15.01</td>\n",
       "      <td>14.26</td>\n",
       "      <td>14.46</td>\n",
       "      <td>8882000</td>\n",
       "      <td>AAL</td>\n",
       "    </tr>\n",
       "    <tr>\n",
       "      <th>2</th>\n",
       "      <td>2013-02-12</td>\n",
       "      <td>14.45</td>\n",
       "      <td>14.51</td>\n",
       "      <td>14.10</td>\n",
       "      <td>14.27</td>\n",
       "      <td>8126000</td>\n",
       "      <td>AAL</td>\n",
       "    </tr>\n",
       "    <tr>\n",
       "      <th>3</th>\n",
       "      <td>2013-02-13</td>\n",
       "      <td>14.30</td>\n",
       "      <td>14.94</td>\n",
       "      <td>14.25</td>\n",
       "      <td>14.66</td>\n",
       "      <td>10259500</td>\n",
       "      <td>AAL</td>\n",
       "    </tr>\n",
       "    <tr>\n",
       "      <th>4</th>\n",
       "      <td>2013-02-14</td>\n",
       "      <td>14.94</td>\n",
       "      <td>14.96</td>\n",
       "      <td>13.16</td>\n",
       "      <td>13.99</td>\n",
       "      <td>31879900</td>\n",
       "      <td>AAL</td>\n",
       "    </tr>\n",
       "  </tbody>\n",
       "</table>\n",
       "</div>"
      ],
      "text/plain": [
       "         date   open   high    low  close    volume Name\n",
       "0  2013-02-08  15.07  15.12  14.63  14.75   8407500  AAL\n",
       "1  2013-02-11  14.89  15.01  14.26  14.46   8882000  AAL\n",
       "2  2013-02-12  14.45  14.51  14.10  14.27   8126000  AAL\n",
       "3  2013-02-13  14.30  14.94  14.25  14.66  10259500  AAL\n",
       "4  2013-02-14  14.94  14.96  13.16  13.99  31879900  AAL"
      ]
     },
     "execution_count": 4,
     "metadata": {},
     "output_type": "execute_result"
    }
   ],
   "source": [
    "df.head()"
   ]
  },
  {
   "cell_type": "code",
   "execution_count": 5,
   "metadata": {},
   "outputs": [
    {
     "name": "stdout",
     "output_type": "stream",
     "text": [
      "<class 'pandas.core.frame.DataFrame'>\n",
      "RangeIndex: 619040 entries, 0 to 619039\n",
      "Data columns (total 7 columns):\n",
      "date      619040 non-null object\n",
      "open      619029 non-null float64\n",
      "high      619032 non-null float64\n",
      "low       619032 non-null float64\n",
      "close     619040 non-null float64\n",
      "volume    619040 non-null int64\n",
      "Name      619040 non-null object\n",
      "dtypes: float64(4), int64(1), object(2)\n",
      "memory usage: 33.1+ MB\n"
     ]
    }
   ],
   "source": [
    "df.info()"
   ]
  },
  {
   "cell_type": "code",
   "execution_count": 6,
   "metadata": {},
   "outputs": [
    {
     "data": {
      "text/plain": [
       "date       object\n",
       "open      float64\n",
       "high      float64\n",
       "low       float64\n",
       "close     float64\n",
       "volume      int64\n",
       "Name       object\n",
       "dtype: object"
      ]
     },
     "execution_count": 6,
     "metadata": {},
     "output_type": "execute_result"
    }
   ],
   "source": [
    "df.dtypes"
   ]
  },
  {
   "cell_type": "code",
   "execution_count": 7,
   "metadata": {},
   "outputs": [
    {
     "name": "stdout",
     "output_type": "stream",
     "text": [
      "['A' 'AAL' 'AAP' 'AAPL' 'ABBV' 'ABC' 'ABT' 'ACN' 'ADBE' 'ADI' 'ADM' 'ADP'\n",
      " 'ADS' 'ADSK' 'AEE' 'AEP' 'AES' 'AET' 'AFL' 'AGN' 'AIG' 'AIV' 'AIZ' 'AJG'\n",
      " 'AKAM' 'ALB' 'ALGN' 'ALK' 'ALL' 'ALLE' 'ALXN' 'AMAT' 'AMD' 'AME' 'AMG'\n",
      " 'AMGN' 'AMP' 'AMT' 'AMZN' 'ANDV' 'ANSS' 'ANTM' 'AON' 'AOS' 'APA' 'APC'\n",
      " 'APD' 'APH' 'APTV' 'ARE' 'ARNC' 'ATVI' 'AVB' 'AVGO' 'AVY' 'AWK' 'AXP'\n",
      " 'AYI' 'AZO' 'BA' 'BAC' 'BAX' 'BBT' 'BBY' 'BDX' 'BEN' 'BF.B' 'BHF' 'BHGE'\n",
      " 'BIIB' 'BK' 'BLK' 'BLL' 'BMY' 'BRK.B' 'BSX' 'BWA' 'BXP' 'C' 'CA' 'CAG'\n",
      " 'CAH' 'CAT' 'CB' 'CBG' 'CBOE' 'CBS' 'CCI' 'CCL' 'CDNS' 'CELG' 'CERN' 'CF'\n",
      " 'CFG' 'CHD' 'CHK' 'CHRW' 'CHTR' 'CI' 'CINF' 'CL' 'CLX' 'CMA' 'CMCSA' 'CME'\n",
      " 'CMG' 'CMI' 'CMS' 'CNC' 'CNP' 'COF' 'COG' 'COL' 'COO' 'COP' 'COST' 'COTY'\n",
      " 'CPB' 'CRM' 'CSCO' 'CSRA' 'CSX' 'CTAS' 'CTL' 'CTSH' 'CTXS' 'CVS' 'CVX'\n",
      " 'CXO' 'D' 'DAL' 'DE' 'DFS' 'DG' 'DGX' 'DHI' 'DHR' 'DIS' 'DISCA' 'DISCK'\n",
      " 'DISH' 'DLR' 'DLTR' 'DOV' 'DPS' 'DRE' 'DRI' 'DTE' 'DUK' 'DVA' 'DVN' 'DWDP'\n",
      " 'DXC' 'EA' 'EBAY' 'ECL' 'ED' 'EFX' 'EIX' 'EL' 'EMN' 'EMR' 'EOG' 'EQIX'\n",
      " 'EQR' 'EQT' 'ES' 'ESRX' 'ESS' 'ETFC' 'ETN' 'ETR' 'EVHC' 'EW' 'EXC' 'EXPD'\n",
      " 'EXPE' 'EXR' 'F' 'FAST' 'FB' 'FBHS' 'FCX' 'FDX' 'FE' 'FFIV' 'FIS' 'FISV'\n",
      " 'FITB' 'FL' 'FLIR' 'FLR' 'FLS' 'FMC' 'FOX' 'FOXA' 'FRT' 'FTI' 'FTV' 'GD'\n",
      " 'GE' 'GGP' 'GILD' 'GIS' 'GLW' 'GM' 'GOOG' 'GOOGL' 'GPC' 'GPN' 'GPS' 'GRMN'\n",
      " 'GS' 'GT' 'GWW' 'HAL' 'HAS' 'HBAN' 'HBI' 'HCA' 'HCN' 'HCP' 'HD' 'HES'\n",
      " 'HIG' 'HII' 'HLT' 'HOG' 'HOLX' 'HON' 'HP' 'HPE' 'HPQ' 'HRB' 'HRL' 'HRS'\n",
      " 'HSIC' 'HST' 'HSY' 'HUM' 'IBM' 'ICE' 'IDXX' 'IFF' 'ILMN' 'INCY' 'INFO'\n",
      " 'INTC' 'INTU' 'IP' 'IPG' 'IQV' 'IR' 'IRM' 'ISRG' 'IT' 'ITW' 'IVZ' 'JBHT'\n",
      " 'JCI' 'JEC' 'JNJ' 'JNPR' 'JPM' 'JWN' 'K' 'KEY' 'KHC' 'KIM' 'KLAC' 'KMB'\n",
      " 'KMI' 'KMX' 'KO' 'KORS' 'KR' 'KSS' 'KSU' 'L' 'LB' 'LEG' 'LEN' 'LH' 'LKQ'\n",
      " 'LLL' 'LLY' 'LMT' 'LNC' 'LNT' 'LOW' 'LRCX' 'LUK' 'LUV' 'LYB' 'M' 'MA'\n",
      " 'MAA' 'MAC' 'MAR' 'MAS' 'MAT' 'MCD' 'MCHP' 'MCK' 'MCO' 'MDLZ' 'MDT' 'MET'\n",
      " 'MGM' 'MHK' 'MKC' 'MLM' 'MMC' 'MMM' 'MNST' 'MO' 'MON' 'MOS' 'MPC' 'MRK'\n",
      " 'MRO' 'MS' 'MSFT' 'MSI' 'MTB' 'MTD' 'MU' 'MYL' 'NAVI' 'NBL' 'NCLH' 'NDAQ'\n",
      " 'NEE' 'NEM' 'NFLX' 'NFX' 'NI' 'NKE' 'NLSN' 'NOC' 'NOV' 'NRG' 'NSC' 'NTAP'\n",
      " 'NTRS' 'NUE' 'NVDA' 'NWL' 'NWS' 'NWSA' 'O' 'OKE' 'OMC' 'ORCL' 'ORLY' 'OXY'\n",
      " 'PAYX' 'PBCT' 'PCAR' 'PCG' 'PCLN' 'PDCO' 'PEG' 'PEP' 'PFE' 'PFG' 'PG'\n",
      " 'PGR' 'PH' 'PHM' 'PKG' 'PKI' 'PLD' 'PM' 'PNC' 'PNR' 'PNW' 'PPG' 'PPL'\n",
      " 'PRGO' 'PRU' 'PSA' 'PSX' 'PVH' 'PWR' 'PX' 'PXD' 'PYPL' 'QCOM' 'QRVO' 'RCL'\n",
      " 'RE' 'REG' 'REGN' 'RF' 'RHI' 'RHT' 'RJF' 'RL' 'RMD' 'ROK' 'ROP' 'ROST'\n",
      " 'RRC' 'RSG' 'RTN' 'SBAC' 'SBUX' 'SCG' 'SCHW' 'SEE' 'SHW' 'SIG' 'SJM' 'SLB'\n",
      " 'SLG' 'SNA' 'SNI' 'SNPS' 'SO' 'SPG' 'SPGI' 'SRCL' 'SRE' 'STI' 'STT' 'STX'\n",
      " 'STZ' 'SWK' 'SWKS' 'SYF' 'SYK' 'SYMC' 'SYY' 'T' 'TAP' 'TDG' 'TEL' 'TGT'\n",
      " 'TIF' 'TJX' 'TMK' 'TMO' 'TPR' 'TRIP' 'TROW' 'TRV' 'TSCO' 'TSN' 'TSS' 'TWX'\n",
      " 'TXN' 'TXT' 'UA' 'UAA' 'UAL' 'UDR' 'UHS' 'ULTA' 'UNH' 'UNM' 'UNP' 'UPS'\n",
      " 'URI' 'USB' 'UTX' 'V' 'VAR' 'VFC' 'VIAB' 'VLO' 'VMC' 'VNO' 'VRSK' 'VRSN'\n",
      " 'VRTX' 'VTR' 'VZ' 'WAT' 'WBA' 'WDC' 'WEC' 'WFC' 'WHR' 'WLTW' 'WM' 'WMB'\n",
      " 'WMT' 'WRK' 'WU' 'WY' 'WYN' 'WYNN' 'XEC' 'XEL' 'XL' 'XLNX' 'XOM' 'XRAY'\n",
      " 'XRX' 'XYL' 'YUM' 'ZBH' 'ZION' 'ZTS']\n"
     ]
    }
   ],
   "source": [
    "stockName = df[\"Name\"].unique()\n",
    "stockName = np.sort(stockName, kind=\"quicksort\")\n",
    "print(stockName)"
   ]
  },
  {
   "cell_type": "code",
   "execution_count": 8,
   "metadata": {
    "collapsed": true
   },
   "outputs": [],
   "source": [
    "import collections\n",
    "m2 = collections.Counter(df[\"Name\"])"
   ]
  },
  {
   "cell_type": "code",
   "execution_count": 9,
   "metadata": {},
   "outputs": [
    {
     "data": {
      "text/plain": [
       "505"
      ]
     },
     "execution_count": 9,
     "metadata": {},
     "output_type": "execute_result"
    }
   ],
   "source": [
    "length = len(m2)\n",
    "length"
   ]
  },
  {
   "cell_type": "code",
   "execution_count": 10,
   "metadata": {},
   "outputs": [
    {
     "name": "stdout",
     "output_type": "stream",
     "text": [
      "AAL 1259\n",
      "AAPL 1259\n",
      "AAP 1259\n",
      "ABBV 1259\n",
      "ABC 1259\n",
      "ABT 1259\n",
      "ACN 1259\n",
      "ADBE 1259\n",
      "ADI 1259\n",
      "ADM 1259\n",
      "ADP 1259\n",
      "ADSK 1259\n",
      "ADS 1259\n",
      "AEE 1259\n",
      "AEP 1259\n",
      "AES 1259\n",
      "AET 1259\n",
      "AFL 1259\n",
      "AGN 1259\n",
      "AIG 1259\n",
      "AIV 1259\n",
      "AIZ 1259\n",
      "AJG 1259\n",
      "AKAM 1259\n",
      "ALB 1259\n",
      "ALGN 1259\n",
      "ALK 1259\n",
      "ALLE 1063\n",
      "ALL 1259\n",
      "ALXN 1259\n",
      "AMAT 1259\n",
      "AMD 1259\n",
      "AME 1259\n",
      "AMGN 1259\n",
      "AMG 1259\n",
      "AMP 1259\n",
      "AMT 1259\n",
      "AMZN 1259\n",
      "ANDV 1259\n",
      "ANSS 1259\n",
      "ANTM 1259\n",
      "AON 1259\n",
      "AOS 1259\n",
      "APA 1259\n",
      "APC 1259\n",
      "APD 1259\n",
      "APH 1259\n",
      "APTV 44\n",
      "ARE 1259\n",
      "ARNC 1259\n",
      "ATVI 1259\n",
      "AVB 1259\n",
      "AVGO 1259\n",
      "AVY 1259\n",
      "AWK 1259\n",
      "AXP 1259\n",
      "AYI 1259\n",
      "AZO 1259\n",
      "A 1259\n",
      "BAC 1259\n",
      "BAX 1259\n",
      "BA 1259\n",
      "BBT 1259\n",
      "BBY 1259\n",
      "BDX 1259\n",
      "BEN 1259\n",
      "BF.B 1259\n",
      "BHF 143\n",
      "BHGE 152\n",
      "BIIB 1259\n",
      "BK 1259\n",
      "BLK 1259\n",
      "BLL 1259\n",
      "BMY 1257\n",
      "BRK.B 1259\n",
      "BSX 1259\n",
      "BWA 1259\n",
      "BXP 1259\n",
      "CAG 1259\n",
      "CAH 1259\n",
      "CAT 1259\n",
      "CA 1259\n",
      "CBG 1259\n",
      "CBOE 1259\n",
      "CBS 1259\n",
      "CB 1259\n",
      "CCI 1259\n",
      "CCL 1259\n",
      "CDNS 1259\n",
      "CELG 1259\n",
      "CERN 1259\n",
      "CFG 850\n",
      "CF 1259\n",
      "CHD 1259\n",
      "CHK 1259\n",
      "CHRW 1259\n",
      "CHTR 1259\n",
      "CINF 1259\n",
      "CI 1259\n",
      "CLX 1259\n",
      "CL 1259\n",
      "CMA 1259\n",
      "CMCSA 1259\n",
      "CME 1259\n",
      "CMG 1259\n",
      "CMI 1259\n",
      "CMS 1259\n",
      "CNC 1259\n",
      "CNP 1259\n",
      "COF 1259\n",
      "COG 1259\n",
      "COL 1259\n",
      "COO 1259\n",
      "COP 1259\n",
      "COST 1259\n",
      "COTY 1173\n",
      "CPB 1259\n",
      "CRM 1259\n",
      "CSCO 1259\n",
      "CSRA 561\n",
      "CSX 1259\n",
      "CTAS 1259\n",
      "CTL 1259\n",
      "CTSH 1259\n",
      "CTXS 1259\n",
      "CVS 1259\n",
      "CVX 1259\n",
      "CXO 1259\n",
      "C 1259\n",
      "DAL 1259\n",
      "DE 1259\n",
      "DFS 1259\n",
      "DGX 1259\n",
      "DG 1259\n",
      "DHI 1259\n",
      "DHR 1243\n",
      "DISCA 1259\n",
      "DISCK 1259\n",
      "DISH 1259\n",
      "DIS 1259\n",
      "DLR 1259\n",
      "DLTR 1259\n",
      "DOV 1259\n",
      "DPS 1259\n",
      "DRE 1259\n",
      "DRI 1259\n",
      "DTE 1259\n",
      "DUK 1259\n",
      "DVA 1259\n",
      "DVN 1259\n",
      "DWDP 109\n",
      "DXC 215\n",
      "D 1259\n",
      "EA 1259\n",
      "EBAY 1259\n",
      "ECL 1259\n",
      "ED 1259\n",
      "EFX 1259\n",
      "EIX 1259\n",
      "EL 1259\n",
      "EMN 1259\n",
      "EMR 1259\n",
      "EOG 1259\n",
      "EQIX 1259\n",
      "EQR 1259\n",
      "EQT 1259\n",
      "ESRX 1259\n",
      "ESS 1259\n",
      "ES 1249\n",
      "ETFC 1259\n",
      "ETN 1259\n",
      "ETR 1259\n",
      "EVHC 297\n",
      "EW 1259\n",
      "EXC 1259\n",
      "EXPD 1259\n",
      "EXPE 1259\n",
      "EXR 1259\n",
      "FAST 1259\n",
      "FBHS 1259\n",
      "FB 1259\n",
      "FCX 1259\n",
      "FDX 1259\n",
      "FE 1259\n",
      "FFIV 1259\n",
      "FISV 1259\n",
      "FIS 1259\n",
      "FITB 1259\n",
      "FLIR 1259\n",
      "FLR 1259\n",
      "FLS 1259\n",
      "FL 1259\n",
      "FMC 1259\n",
      "FOXA 1169\n",
      "FOX 1169\n",
      "FRT 1259\n",
      "FTI 1259\n",
      "FTV 404\n",
      "F 1259\n",
      "GD 1259\n",
      "GE 1259\n",
      "GGP 1259\n",
      "GILD 1259\n",
      "GIS 1259\n",
      "GLW 1259\n",
      "GM 1259\n",
      "GOOGL 1259\n",
      "GOOG 975\n",
      "GPC 1259\n",
      "GPN 1259\n",
      "GPS 1259\n",
      "GRMN 1259\n",
      "GS 1259\n",
      "GT 1259\n",
      "GWW 1259\n",
      "HAL 1259\n",
      "HAS 1259\n",
      "HBAN 1259\n",
      "HBI 1259\n",
      "HCA 1259\n",
      "HCN 1259\n",
      "HCP 1259\n",
      "HD 1259\n",
      "HES 1259\n",
      "HIG 1259\n",
      "HII 1259\n",
      "HLT 276\n",
      "HOG 1259\n",
      "HOLX 1259\n",
      "HON 1259\n",
      "HPE 581\n",
      "HPQ 581\n",
      "HP 1259\n",
      "HRB 1259\n",
      "HRL 1259\n",
      "HRS 1259\n",
      "HSIC 1259\n",
      "HST 1259\n",
      "HSY 1259\n",
      "HUM 1259\n",
      "IBM 1259\n",
      "ICE 1254\n",
      "IDXX 1259\n",
      "IFF 1259\n",
      "ILMN 1259\n",
      "INCY 1259\n",
      "INFO 917\n",
      "INTC 1259\n",
      "INTU 1259\n",
      "IPG 1259\n",
      "IP 1259\n",
      "IQV 1197\n",
      "IRM 1259\n",
      "IR 1259\n",
      "ISRG 1259\n",
      "ITW 1259\n",
      "IT 1259\n",
      "IVZ 1259\n",
      "JBHT 1259\n",
      "JCI 1259\n",
      "JEC 1259\n",
      "JNJ 1259\n",
      "JNPR 1259\n",
      "JPM 1259\n",
      "JWN 1259\n",
      "KEY 1259\n",
      "KHC 655\n",
      "KIM 1259\n",
      "KLAC 1259\n",
      "KMB 1259\n",
      "KMI 1259\n",
      "KMX 1259\n",
      "KORS 1259\n",
      "KO 1259\n",
      "KR 1259\n",
      "KSS 1259\n",
      "KSU 1259\n",
      "K 1259\n",
      "LB 1259\n",
      "LEG 1259\n",
      "LEN 1259\n",
      "LH 1259\n",
      "LKQ 1259\n",
      "LLL 1259\n",
      "LLY 1259\n",
      "LMT 1259\n",
      "LNC 1259\n",
      "LNT 1259\n",
      "LOW 1259\n",
      "LRCX 1259\n",
      "LUK 1259\n",
      "LUV 1259\n",
      "LYB 1259\n",
      "L 1259\n",
      "MAA 1259\n",
      "MAC 1259\n",
      "MAR 1259\n",
      "MAS 1259\n",
      "MAT 1259\n",
      "MA 1259\n",
      "MCD 1259\n",
      "MCHP 1259\n",
      "MCK 1259\n",
      "MCO 1259\n",
      "MDLZ 1259\n",
      "MDT 1259\n",
      "MET 1259\n",
      "MGM 1259\n",
      "MHK 1259\n",
      "MKC 1259\n",
      "MLM 1259\n",
      "MMC 1259\n",
      "MMM 1259\n",
      "MNST 1259\n",
      "MON 1259\n",
      "MOS 1259\n",
      "MO 1259\n",
      "MPC 1259\n",
      "MRK 1259\n",
      "MRO 1259\n",
      "MSFT 1259\n",
      "MSI 1259\n",
      "MS 1259\n",
      "MTB 1259\n",
      "MTD 1259\n",
      "MU 1259\n",
      "MYL 1259\n",
      "M 1259\n",
      "NAVI 960\n",
      "NBL 1259\n",
      "NCLH 1259\n",
      "NDAQ 1259\n",
      "NEE 1259\n",
      "NEM 1259\n",
      "NFLX 1259\n",
      "NFX 1259\n",
      "NI 1259\n",
      "NKE 1259\n",
      "NLSN 1259\n",
      "NOC 1259\n",
      "NOV 1259\n",
      "NRG 1259\n",
      "NSC 1259\n",
      "NTAP 1259\n",
      "NTRS 1259\n",
      "NUE 1259\n",
      "NVDA 1259\n",
      "NWL 1259\n",
      "NWSA 1169\n",
      "NWS 1169\n",
      "OKE 1259\n",
      "OMC 1259\n",
      "ORCL 1257\n",
      "ORLY 1259\n",
      "OXY 1259\n",
      "O 1243\n",
      "PAYX 1259\n",
      "PBCT 1259\n",
      "PCAR 1259\n",
      "PCG 1259\n",
      "PCLN 1259\n",
      "PDCO 1259\n",
      "PEG 1259\n",
      "PEP 1259\n",
      "PFE 1259\n",
      "PFG 1259\n",
      "PGR 1259\n",
      "PG 1259\n",
      "PHM 1259\n",
      "PH 1259\n",
      "PKG 1259\n",
      "PKI 1259\n",
      "PLD 1259\n",
      "PM 1259\n",
      "PNC 1259\n",
      "PNR 1259\n",
      "PNW 1259\n",
      "PPG 1259\n",
      "PPL 1259\n",
      "PRGO 1259\n",
      "PRU 1259\n",
      "PSA 1259\n",
      "PSX 1259\n",
      "PVH 1259\n",
      "PWR 1259\n",
      "PXD 1259\n",
      "PX 1259\n",
      "PYPL 655\n",
      "QCOM 1259\n",
      "QRVO 781\n",
      "RCL 1259\n",
      "REGN 1259\n",
      "REG 1259\n",
      "RE 1259\n",
      "RF 1259\n",
      "RHI 1259\n",
      "RHT 1259\n",
      "RJF 1259\n",
      "RL 1259\n",
      "RMD 1259\n",
      "ROK 1259\n",
      "ROP 1259\n",
      "ROST 1259\n",
      "RRC 1259\n",
      "RSG 1259\n",
      "RTN 1259\n",
      "SBAC 1259\n",
      "SBUX 1259\n",
      "SCG 1259\n",
      "SCHW 1259\n",
      "SEE 1259\n",
      "SHW 1259\n",
      "SIG 1259\n",
      "SJM 1259\n",
      "SLB 1259\n",
      "SLG 1259\n",
      "SNA 1259\n",
      "SNI 1259\n",
      "SNPS 1259\n",
      "SO 1259\n",
      "SPGI 1259\n",
      "SPG 1259\n",
      "SRCL 1259\n",
      "SRE 1259\n",
      "STI 1259\n",
      "STT 1259\n",
      "STX 1259\n",
      "STZ 1259\n",
      "SWKS 1259\n",
      "SWK 1259\n",
      "SYF 888\n",
      "SYK 1259\n",
      "SYMC 1259\n",
      "SYY 1259\n",
      "TAP 1259\n",
      "TDG 1259\n",
      "TEL 1259\n",
      "TGT 1259\n",
      "TIF 1259\n",
      "TJX 1259\n",
      "TMK 1259\n",
      "TMO 1259\n",
      "TPR 1259\n",
      "TRIP 1259\n",
      "TROW 1259\n",
      "TRV 1259\n",
      "TSCO 1259\n",
      "TSN 1259\n",
      "TSS 1259\n",
      "TWX 1259\n",
      "TXN 1259\n",
      "TXT 1259\n",
      "T 1259\n",
      "UAA 1259\n",
      "UAL 1259\n",
      "UA 464\n",
      "UDR 1259\n",
      "UHS 1259\n",
      "ULTA 1259\n",
      "UNH 1259\n",
      "UNM 1259\n",
      "UNP 1259\n",
      "UPS 1259\n",
      "URI 1259\n",
      "USB 1259\n",
      "UTX 1259\n",
      "VAR 1259\n",
      "VFC 1259\n",
      "VIAB 1259\n",
      "VLO 1259\n",
      "VMC 1259\n",
      "VNO 1259\n",
      "VRSK 1259\n",
      "VRSN 1259\n",
      "VRTX 1259\n",
      "VTR 1259\n",
      "VZ 1259\n",
      "V 1259\n",
      "WAT 1259\n",
      "WBA 1259\n",
      "WDC 1259\n",
      "WEC 1259\n",
      "WFC 1259\n",
      "WHR 1259\n",
      "WLTW 528\n",
      "WMB 1259\n",
      "WMT 1259\n",
      "WM 1259\n",
      "WRK 662\n",
      "WU 1259\n",
      "WYNN 1259\n",
      "WYN 1259\n",
      "WY 1259\n",
      "XEC 1259\n",
      "XEL 1259\n",
      "XLNX 1259\n",
      "XL 1259\n",
      "XOM 1259\n",
      "XRAY 1259\n",
      "XRX 1259\n",
      "XYL 1259\n",
      "YUM 1259\n",
      "ZBH 1259\n",
      "ZION 1259\n",
      "ZTS 1259\n"
     ]
    }
   ],
   "source": [
    "for index in m2:\n",
    "    if m2[index] > 1:\n",
    "        print(index,m2[index])"
   ]
  },
  {
   "cell_type": "code",
   "execution_count": 11,
   "metadata": {
    "collapsed": true
   },
   "outputs": [],
   "source": [
    "Null = df.isnull().sum()"
   ]
  },
  {
   "cell_type": "code",
   "execution_count": 12,
   "metadata": {
    "collapsed": true
   },
   "outputs": [],
   "source": [
    "Total = df.count()"
   ]
  },
  {
   "cell_type": "code",
   "execution_count": 13,
   "metadata": {
    "collapsed": true
   },
   "outputs": [],
   "source": [
    "Perc = Null/Total*100"
   ]
  },
  {
   "cell_type": "code",
   "execution_count": 14,
   "metadata": {
    "collapsed": true
   },
   "outputs": [],
   "source": [
    "df2 = pd.concat([Null,Total,Perc],axis=1)"
   ]
  },
  {
   "cell_type": "code",
   "execution_count": 15,
   "metadata": {
    "collapsed": true
   },
   "outputs": [],
   "source": [
    "df2.columns = [\"Null\",\"Total\",\"Perc\"]"
   ]
  },
  {
   "cell_type": "code",
   "execution_count": 16,
   "metadata": {},
   "outputs": [
    {
     "data": {
      "text/html": [
       "<div>\n",
       "<style>\n",
       "    .dataframe thead tr:only-child th {\n",
       "        text-align: right;\n",
       "    }\n",
       "\n",
       "    .dataframe thead th {\n",
       "        text-align: left;\n",
       "    }\n",
       "\n",
       "    .dataframe tbody tr th {\n",
       "        vertical-align: top;\n",
       "    }\n",
       "</style>\n",
       "<table border=\"1\" class=\"dataframe\">\n",
       "  <thead>\n",
       "    <tr style=\"text-align: right;\">\n",
       "      <th></th>\n",
       "      <th>Null</th>\n",
       "      <th>Total</th>\n",
       "      <th>Perc</th>\n",
       "    </tr>\n",
       "  </thead>\n",
       "  <tbody>\n",
       "    <tr>\n",
       "      <th>date</th>\n",
       "      <td>0</td>\n",
       "      <td>619040</td>\n",
       "      <td>0.000000</td>\n",
       "    </tr>\n",
       "    <tr>\n",
       "      <th>open</th>\n",
       "      <td>11</td>\n",
       "      <td>619029</td>\n",
       "      <td>0.001777</td>\n",
       "    </tr>\n",
       "    <tr>\n",
       "      <th>high</th>\n",
       "      <td>8</td>\n",
       "      <td>619032</td>\n",
       "      <td>0.001292</td>\n",
       "    </tr>\n",
       "    <tr>\n",
       "      <th>low</th>\n",
       "      <td>8</td>\n",
       "      <td>619032</td>\n",
       "      <td>0.001292</td>\n",
       "    </tr>\n",
       "    <tr>\n",
       "      <th>close</th>\n",
       "      <td>0</td>\n",
       "      <td>619040</td>\n",
       "      <td>0.000000</td>\n",
       "    </tr>\n",
       "    <tr>\n",
       "      <th>volume</th>\n",
       "      <td>0</td>\n",
       "      <td>619040</td>\n",
       "      <td>0.000000</td>\n",
       "    </tr>\n",
       "    <tr>\n",
       "      <th>Name</th>\n",
       "      <td>0</td>\n",
       "      <td>619040</td>\n",
       "      <td>0.000000</td>\n",
       "    </tr>\n",
       "  </tbody>\n",
       "</table>\n",
       "</div>"
      ],
      "text/plain": [
       "        Null   Total      Perc\n",
       "date       0  619040  0.000000\n",
       "open      11  619029  0.001777\n",
       "high       8  619032  0.001292\n",
       "low        8  619032  0.001292\n",
       "close      0  619040  0.000000\n",
       "volume     0  619040  0.000000\n",
       "Name       0  619040  0.000000"
      ]
     },
     "execution_count": 16,
     "metadata": {},
     "output_type": "execute_result"
    }
   ],
   "source": [
    "df2"
   ]
  },
  {
   "cell_type": "code",
   "execution_count": 17,
   "metadata": {
    "collapsed": true
   },
   "outputs": [],
   "source": [
    "df3 = df.groupby(\"Name\")"
   ]
  },
  {
   "cell_type": "code",
   "execution_count": 18,
   "metadata": {},
   "outputs": [
    {
     "data": {
      "text/html": [
       "<div>\n",
       "<style>\n",
       "    .dataframe thead tr:only-child th {\n",
       "        text-align: right;\n",
       "    }\n",
       "\n",
       "    .dataframe thead th {\n",
       "        text-align: left;\n",
       "    }\n",
       "\n",
       "    .dataframe tbody tr th {\n",
       "        vertical-align: top;\n",
       "    }\n",
       "</style>\n",
       "<table border=\"1\" class=\"dataframe\">\n",
       "  <thead>\n",
       "    <tr style=\"text-align: right;\">\n",
       "      <th></th>\n",
       "      <th>date</th>\n",
       "      <th>open</th>\n",
       "      <th>high</th>\n",
       "      <th>low</th>\n",
       "      <th>close</th>\n",
       "      <th>volume</th>\n",
       "      <th>Name</th>\n",
       "    </tr>\n",
       "  </thead>\n",
       "  <tbody>\n",
       "    <tr>\n",
       "      <th>0</th>\n",
       "      <td>2013-02-08</td>\n",
       "      <td>15.0700</td>\n",
       "      <td>15.1200</td>\n",
       "      <td>14.6300</td>\n",
       "      <td>14.7500</td>\n",
       "      <td>8407500</td>\n",
       "      <td>AAL</td>\n",
       "    </tr>\n",
       "    <tr>\n",
       "      <th>1</th>\n",
       "      <td>2013-02-11</td>\n",
       "      <td>14.8900</td>\n",
       "      <td>15.0100</td>\n",
       "      <td>14.2600</td>\n",
       "      <td>14.4600</td>\n",
       "      <td>8882000</td>\n",
       "      <td>AAL</td>\n",
       "    </tr>\n",
       "    <tr>\n",
       "      <th>2</th>\n",
       "      <td>2013-02-12</td>\n",
       "      <td>14.4500</td>\n",
       "      <td>14.5100</td>\n",
       "      <td>14.1000</td>\n",
       "      <td>14.2700</td>\n",
       "      <td>8126000</td>\n",
       "      <td>AAL</td>\n",
       "    </tr>\n",
       "    <tr>\n",
       "      <th>3</th>\n",
       "      <td>2013-02-13</td>\n",
       "      <td>14.3000</td>\n",
       "      <td>14.9400</td>\n",
       "      <td>14.2500</td>\n",
       "      <td>14.6600</td>\n",
       "      <td>10259500</td>\n",
       "      <td>AAL</td>\n",
       "    </tr>\n",
       "    <tr>\n",
       "      <th>4</th>\n",
       "      <td>2013-02-14</td>\n",
       "      <td>14.9400</td>\n",
       "      <td>14.9600</td>\n",
       "      <td>13.1600</td>\n",
       "      <td>13.9900</td>\n",
       "      <td>31879900</td>\n",
       "      <td>AAL</td>\n",
       "    </tr>\n",
       "    <tr>\n",
       "      <th>1259</th>\n",
       "      <td>2013-02-08</td>\n",
       "      <td>67.7142</td>\n",
       "      <td>68.4014</td>\n",
       "      <td>66.8928</td>\n",
       "      <td>67.8542</td>\n",
       "      <td>158168416</td>\n",
       "      <td>AAPL</td>\n",
       "    </tr>\n",
       "    <tr>\n",
       "      <th>1260</th>\n",
       "      <td>2013-02-11</td>\n",
       "      <td>68.0714</td>\n",
       "      <td>69.2771</td>\n",
       "      <td>67.6071</td>\n",
       "      <td>68.5614</td>\n",
       "      <td>129029425</td>\n",
       "      <td>AAPL</td>\n",
       "    </tr>\n",
       "    <tr>\n",
       "      <th>1261</th>\n",
       "      <td>2013-02-12</td>\n",
       "      <td>68.5014</td>\n",
       "      <td>68.9114</td>\n",
       "      <td>66.8205</td>\n",
       "      <td>66.8428</td>\n",
       "      <td>151829363</td>\n",
       "      <td>AAPL</td>\n",
       "    </tr>\n",
       "    <tr>\n",
       "      <th>1262</th>\n",
       "      <td>2013-02-13</td>\n",
       "      <td>66.7442</td>\n",
       "      <td>67.6628</td>\n",
       "      <td>66.1742</td>\n",
       "      <td>66.7156</td>\n",
       "      <td>118721995</td>\n",
       "      <td>AAPL</td>\n",
       "    </tr>\n",
       "    <tr>\n",
       "      <th>1263</th>\n",
       "      <td>2013-02-14</td>\n",
       "      <td>66.3599</td>\n",
       "      <td>67.3771</td>\n",
       "      <td>66.2885</td>\n",
       "      <td>66.6556</td>\n",
       "      <td>88809154</td>\n",
       "      <td>AAPL</td>\n",
       "    </tr>\n",
       "    <tr>\n",
       "      <th>2518</th>\n",
       "      <td>2013-02-08</td>\n",
       "      <td>78.3400</td>\n",
       "      <td>79.7200</td>\n",
       "      <td>78.0100</td>\n",
       "      <td>78.9000</td>\n",
       "      <td>1298137</td>\n",
       "      <td>AAP</td>\n",
       "    </tr>\n",
       "    <tr>\n",
       "      <th>2519</th>\n",
       "      <td>2013-02-11</td>\n",
       "      <td>78.6500</td>\n",
       "      <td>78.9100</td>\n",
       "      <td>77.2300</td>\n",
       "      <td>78.3900</td>\n",
       "      <td>758016</td>\n",
       "      <td>AAP</td>\n",
       "    </tr>\n",
       "    <tr>\n",
       "      <th>2520</th>\n",
       "      <td>2013-02-12</td>\n",
       "      <td>78.3900</td>\n",
       "      <td>78.6300</td>\n",
       "      <td>77.5132</td>\n",
       "      <td>78.6000</td>\n",
       "      <td>876859</td>\n",
       "      <td>AAP</td>\n",
       "    </tr>\n",
       "    <tr>\n",
       "      <th>2521</th>\n",
       "      <td>2013-02-13</td>\n",
       "      <td>78.9000</td>\n",
       "      <td>79.1300</td>\n",
       "      <td>77.8500</td>\n",
       "      <td>78.9700</td>\n",
       "      <td>1038574</td>\n",
       "      <td>AAP</td>\n",
       "    </tr>\n",
       "    <tr>\n",
       "      <th>2522</th>\n",
       "      <td>2013-02-14</td>\n",
       "      <td>78.6600</td>\n",
       "      <td>79.7200</td>\n",
       "      <td>78.5850</td>\n",
       "      <td>78.8400</td>\n",
       "      <td>1005376</td>\n",
       "      <td>AAP</td>\n",
       "    </tr>\n",
       "    <tr>\n",
       "      <th>3777</th>\n",
       "      <td>2013-02-08</td>\n",
       "      <td>36.3700</td>\n",
       "      <td>36.4200</td>\n",
       "      <td>35.8250</td>\n",
       "      <td>36.2500</td>\n",
       "      <td>13858795</td>\n",
       "      <td>ABBV</td>\n",
       "    </tr>\n",
       "    <tr>\n",
       "      <th>3778</th>\n",
       "      <td>2013-02-11</td>\n",
       "      <td>36.1300</td>\n",
       "      <td>36.1800</td>\n",
       "      <td>35.7500</td>\n",
       "      <td>35.8500</td>\n",
       "      <td>6031957</td>\n",
       "      <td>ABBV</td>\n",
       "    </tr>\n",
       "    <tr>\n",
       "      <th>3779</th>\n",
       "      <td>2013-02-12</td>\n",
       "      <td>35.7700</td>\n",
       "      <td>35.9000</td>\n",
       "      <td>35.2000</td>\n",
       "      <td>35.4200</td>\n",
       "      <td>7473991</td>\n",
       "      <td>ABBV</td>\n",
       "    </tr>\n",
       "    <tr>\n",
       "      <th>3780</th>\n",
       "      <td>2013-02-13</td>\n",
       "      <td>35.4200</td>\n",
       "      <td>35.5700</td>\n",
       "      <td>35.1500</td>\n",
       "      <td>35.2700</td>\n",
       "      <td>4860053</td>\n",
       "      <td>ABBV</td>\n",
       "    </tr>\n",
       "    <tr>\n",
       "      <th>3781</th>\n",
       "      <td>2013-02-14</td>\n",
       "      <td>35.0500</td>\n",
       "      <td>36.7300</td>\n",
       "      <td>35.0100</td>\n",
       "      <td>36.5700</td>\n",
       "      <td>7570052</td>\n",
       "      <td>ABBV</td>\n",
       "    </tr>\n",
       "    <tr>\n",
       "      <th>5036</th>\n",
       "      <td>2013-02-08</td>\n",
       "      <td>46.5200</td>\n",
       "      <td>46.8950</td>\n",
       "      <td>46.4600</td>\n",
       "      <td>46.8900</td>\n",
       "      <td>1232802</td>\n",
       "      <td>ABC</td>\n",
       "    </tr>\n",
       "    <tr>\n",
       "      <th>5037</th>\n",
       "      <td>2013-02-11</td>\n",
       "      <td>46.8500</td>\n",
       "      <td>47.0000</td>\n",
       "      <td>46.5000</td>\n",
       "      <td>46.7600</td>\n",
       "      <td>1115888</td>\n",
       "      <td>ABC</td>\n",
       "    </tr>\n",
       "    <tr>\n",
       "      <th>5038</th>\n",
       "      <td>2013-02-12</td>\n",
       "      <td>46.7000</td>\n",
       "      <td>47.0500</td>\n",
       "      <td>46.6000</td>\n",
       "      <td>46.9600</td>\n",
       "      <td>1318773</td>\n",
       "      <td>ABC</td>\n",
       "    </tr>\n",
       "    <tr>\n",
       "      <th>5039</th>\n",
       "      <td>2013-02-13</td>\n",
       "      <td>46.7400</td>\n",
       "      <td>46.9000</td>\n",
       "      <td>46.6000</td>\n",
       "      <td>46.6400</td>\n",
       "      <td>2645247</td>\n",
       "      <td>ABC</td>\n",
       "    </tr>\n",
       "    <tr>\n",
       "      <th>5040</th>\n",
       "      <td>2013-02-14</td>\n",
       "      <td>46.6700</td>\n",
       "      <td>46.9900</td>\n",
       "      <td>46.6000</td>\n",
       "      <td>46.7700</td>\n",
       "      <td>1941879</td>\n",
       "      <td>ABC</td>\n",
       "    </tr>\n",
       "    <tr>\n",
       "      <th>6295</th>\n",
       "      <td>2013-02-08</td>\n",
       "      <td>34.3900</td>\n",
       "      <td>34.6600</td>\n",
       "      <td>34.2900</td>\n",
       "      <td>34.4100</td>\n",
       "      <td>10237828</td>\n",
       "      <td>ABT</td>\n",
       "    </tr>\n",
       "    <tr>\n",
       "      <th>6296</th>\n",
       "      <td>2013-02-11</td>\n",
       "      <td>34.4200</td>\n",
       "      <td>34.4900</td>\n",
       "      <td>34.2400</td>\n",
       "      <td>34.2600</td>\n",
       "      <td>7928236</td>\n",
       "      <td>ABT</td>\n",
       "    </tr>\n",
       "    <tr>\n",
       "      <th>6297</th>\n",
       "      <td>2013-02-12</td>\n",
       "      <td>34.2700</td>\n",
       "      <td>34.5000</td>\n",
       "      <td>34.2100</td>\n",
       "      <td>34.3000</td>\n",
       "      <td>7070536</td>\n",
       "      <td>ABT</td>\n",
       "    </tr>\n",
       "    <tr>\n",
       "      <th>6298</th>\n",
       "      <td>2013-02-13</td>\n",
       "      <td>34.2900</td>\n",
       "      <td>34.5800</td>\n",
       "      <td>34.2500</td>\n",
       "      <td>34.4600</td>\n",
       "      <td>6688100</td>\n",
       "      <td>ABT</td>\n",
       "    </tr>\n",
       "    <tr>\n",
       "      <th>6299</th>\n",
       "      <td>2013-02-14</td>\n",
       "      <td>34.2800</td>\n",
       "      <td>34.7500</td>\n",
       "      <td>34.2800</td>\n",
       "      <td>34.7000</td>\n",
       "      <td>8561425</td>\n",
       "      <td>ABT</td>\n",
       "    </tr>\n",
       "    <tr>\n",
       "      <th>...</th>\n",
       "      <td>...</td>\n",
       "      <td>...</td>\n",
       "      <td>...</td>\n",
       "      <td>...</td>\n",
       "      <td>...</td>\n",
       "      <td>...</td>\n",
       "      <td>...</td>\n",
       "    </tr>\n",
       "    <tr>\n",
       "      <th>611486</th>\n",
       "      <td>2013-02-08</td>\n",
       "      <td>32.0800</td>\n",
       "      <td>32.1200</td>\n",
       "      <td>31.7000</td>\n",
       "      <td>31.8400</td>\n",
       "      <td>1702218</td>\n",
       "      <td>XRX</td>\n",
       "    </tr>\n",
       "    <tr>\n",
       "      <th>611487</th>\n",
       "      <td>2013-02-11</td>\n",
       "      <td>31.9200</td>\n",
       "      <td>32.0200</td>\n",
       "      <td>31.8000</td>\n",
       "      <td>31.9600</td>\n",
       "      <td>1475369</td>\n",
       "      <td>XRX</td>\n",
       "    </tr>\n",
       "    <tr>\n",
       "      <th>611488</th>\n",
       "      <td>2013-02-12</td>\n",
       "      <td>32.0400</td>\n",
       "      <td>32.1200</td>\n",
       "      <td>31.8000</td>\n",
       "      <td>31.8400</td>\n",
       "      <td>1888523</td>\n",
       "      <td>XRX</td>\n",
       "    </tr>\n",
       "    <tr>\n",
       "      <th>611489</th>\n",
       "      <td>2013-02-13</td>\n",
       "      <td>31.9600</td>\n",
       "      <td>32.1200</td>\n",
       "      <td>31.7600</td>\n",
       "      <td>32.0000</td>\n",
       "      <td>2863447</td>\n",
       "      <td>XRX</td>\n",
       "    </tr>\n",
       "    <tr>\n",
       "      <th>611490</th>\n",
       "      <td>2013-02-14</td>\n",
       "      <td>31.8400</td>\n",
       "      <td>32.2400</td>\n",
       "      <td>31.8004</td>\n",
       "      <td>32.1200</td>\n",
       "      <td>1594884</td>\n",
       "      <td>XRX</td>\n",
       "    </tr>\n",
       "    <tr>\n",
       "      <th>612745</th>\n",
       "      <td>2013-02-08</td>\n",
       "      <td>27.0100</td>\n",
       "      <td>27.6400</td>\n",
       "      <td>27.0100</td>\n",
       "      <td>27.0900</td>\n",
       "      <td>1206284</td>\n",
       "      <td>XYL</td>\n",
       "    </tr>\n",
       "    <tr>\n",
       "      <th>612746</th>\n",
       "      <td>2013-02-11</td>\n",
       "      <td>27.1100</td>\n",
       "      <td>27.5300</td>\n",
       "      <td>27.0200</td>\n",
       "      <td>27.4600</td>\n",
       "      <td>875010</td>\n",
       "      <td>XYL</td>\n",
       "    </tr>\n",
       "    <tr>\n",
       "      <th>612747</th>\n",
       "      <td>2013-02-12</td>\n",
       "      <td>27.5200</td>\n",
       "      <td>28.1000</td>\n",
       "      <td>27.4800</td>\n",
       "      <td>27.9500</td>\n",
       "      <td>904935</td>\n",
       "      <td>XYL</td>\n",
       "    </tr>\n",
       "    <tr>\n",
       "      <th>612748</th>\n",
       "      <td>2013-02-13</td>\n",
       "      <td>28.0000</td>\n",
       "      <td>28.3700</td>\n",
       "      <td>27.9400</td>\n",
       "      <td>28.2600</td>\n",
       "      <td>622205</td>\n",
       "      <td>XYL</td>\n",
       "    </tr>\n",
       "    <tr>\n",
       "      <th>612749</th>\n",
       "      <td>2013-02-14</td>\n",
       "      <td>28.2200</td>\n",
       "      <td>28.6150</td>\n",
       "      <td>28.2050</td>\n",
       "      <td>28.4700</td>\n",
       "      <td>927050</td>\n",
       "      <td>XYL</td>\n",
       "    </tr>\n",
       "    <tr>\n",
       "      <th>614004</th>\n",
       "      <td>2013-02-08</td>\n",
       "      <td>63.7000</td>\n",
       "      <td>65.4900</td>\n",
       "      <td>63.6600</td>\n",
       "      <td>65.3000</td>\n",
       "      <td>7190051</td>\n",
       "      <td>YUM</td>\n",
       "    </tr>\n",
       "    <tr>\n",
       "      <th>614005</th>\n",
       "      <td>2013-02-11</td>\n",
       "      <td>65.1600</td>\n",
       "      <td>65.1900</td>\n",
       "      <td>64.4800</td>\n",
       "      <td>64.5500</td>\n",
       "      <td>5352531</td>\n",
       "      <td>YUM</td>\n",
       "    </tr>\n",
       "    <tr>\n",
       "      <th>614006</th>\n",
       "      <td>2013-02-12</td>\n",
       "      <td>64.5800</td>\n",
       "      <td>65.0600</td>\n",
       "      <td>64.0600</td>\n",
       "      <td>64.7500</td>\n",
       "      <td>4934311</td>\n",
       "      <td>YUM</td>\n",
       "    </tr>\n",
       "    <tr>\n",
       "      <th>614007</th>\n",
       "      <td>2013-02-13</td>\n",
       "      <td>64.7700</td>\n",
       "      <td>64.9100</td>\n",
       "      <td>63.9500</td>\n",
       "      <td>64.4100</td>\n",
       "      <td>3999959</td>\n",
       "      <td>YUM</td>\n",
       "    </tr>\n",
       "    <tr>\n",
       "      <th>614008</th>\n",
       "      <td>2013-02-14</td>\n",
       "      <td>64.2700</td>\n",
       "      <td>64.5360</td>\n",
       "      <td>63.7700</td>\n",
       "      <td>63.8900</td>\n",
       "      <td>3949356</td>\n",
       "      <td>YUM</td>\n",
       "    </tr>\n",
       "    <tr>\n",
       "      <th>615263</th>\n",
       "      <td>2013-02-08</td>\n",
       "      <td>75.0200</td>\n",
       "      <td>75.9900</td>\n",
       "      <td>74.9600</td>\n",
       "      <td>75.8500</td>\n",
       "      <td>911179</td>\n",
       "      <td>ZBH</td>\n",
       "    </tr>\n",
       "    <tr>\n",
       "      <th>615264</th>\n",
       "      <td>2013-02-11</td>\n",
       "      <td>75.7500</td>\n",
       "      <td>75.9800</td>\n",
       "      <td>75.3500</td>\n",
       "      <td>75.6500</td>\n",
       "      <td>665462</td>\n",
       "      <td>ZBH</td>\n",
       "    </tr>\n",
       "    <tr>\n",
       "      <th>615265</th>\n",
       "      <td>2013-02-12</td>\n",
       "      <td>75.6500</td>\n",
       "      <td>75.8200</td>\n",
       "      <td>75.3500</td>\n",
       "      <td>75.4400</td>\n",
       "      <td>1048252</td>\n",
       "      <td>ZBH</td>\n",
       "    </tr>\n",
       "    <tr>\n",
       "      <th>615266</th>\n",
       "      <td>2013-02-13</td>\n",
       "      <td>75.7400</td>\n",
       "      <td>76.7500</td>\n",
       "      <td>75.6600</td>\n",
       "      <td>76.0000</td>\n",
       "      <td>931746</td>\n",
       "      <td>ZBH</td>\n",
       "    </tr>\n",
       "    <tr>\n",
       "      <th>615267</th>\n",
       "      <td>2013-02-14</td>\n",
       "      <td>75.8600</td>\n",
       "      <td>76.4000</td>\n",
       "      <td>75.7500</td>\n",
       "      <td>76.3400</td>\n",
       "      <td>860104</td>\n",
       "      <td>ZBH</td>\n",
       "    </tr>\n",
       "    <tr>\n",
       "      <th>616522</th>\n",
       "      <td>2013-02-08</td>\n",
       "      <td>24.0300</td>\n",
       "      <td>24.2100</td>\n",
       "      <td>23.9500</td>\n",
       "      <td>24.1400</td>\n",
       "      <td>2104483</td>\n",
       "      <td>ZION</td>\n",
       "    </tr>\n",
       "    <tr>\n",
       "      <th>616523</th>\n",
       "      <td>2013-02-11</td>\n",
       "      <td>24.1400</td>\n",
       "      <td>24.3000</td>\n",
       "      <td>23.9900</td>\n",
       "      <td>24.2100</td>\n",
       "      <td>1839686</td>\n",
       "      <td>ZION</td>\n",
       "    </tr>\n",
       "    <tr>\n",
       "      <th>616524</th>\n",
       "      <td>2013-02-12</td>\n",
       "      <td>24.2800</td>\n",
       "      <td>24.5700</td>\n",
       "      <td>24.1400</td>\n",
       "      <td>24.4900</td>\n",
       "      <td>2603143</td>\n",
       "      <td>ZION</td>\n",
       "    </tr>\n",
       "    <tr>\n",
       "      <th>616525</th>\n",
       "      <td>2013-02-13</td>\n",
       "      <td>24.5800</td>\n",
       "      <td>24.9200</td>\n",
       "      <td>24.4954</td>\n",
       "      <td>24.7400</td>\n",
       "      <td>2911880</td>\n",
       "      <td>ZION</td>\n",
       "    </tr>\n",
       "    <tr>\n",
       "      <th>616526</th>\n",
       "      <td>2013-02-14</td>\n",
       "      <td>24.6800</td>\n",
       "      <td>24.7850</td>\n",
       "      <td>24.5100</td>\n",
       "      <td>24.6300</td>\n",
       "      <td>2789414</td>\n",
       "      <td>ZION</td>\n",
       "    </tr>\n",
       "    <tr>\n",
       "      <th>617781</th>\n",
       "      <td>2013-02-08</td>\n",
       "      <td>32.3100</td>\n",
       "      <td>33.4800</td>\n",
       "      <td>32.3000</td>\n",
       "      <td>33.0500</td>\n",
       "      <td>2599232</td>\n",
       "      <td>ZTS</td>\n",
       "    </tr>\n",
       "    <tr>\n",
       "      <th>617782</th>\n",
       "      <td>2013-02-11</td>\n",
       "      <td>33.0600</td>\n",
       "      <td>33.5000</td>\n",
       "      <td>32.8800</td>\n",
       "      <td>33.2600</td>\n",
       "      <td>1486115</td>\n",
       "      <td>ZTS</td>\n",
       "    </tr>\n",
       "    <tr>\n",
       "      <th>617783</th>\n",
       "      <td>2013-02-12</td>\n",
       "      <td>33.4000</td>\n",
       "      <td>34.0000</td>\n",
       "      <td>33.1500</td>\n",
       "      <td>33.7400</td>\n",
       "      <td>1637279</td>\n",
       "      <td>ZTS</td>\n",
       "    </tr>\n",
       "    <tr>\n",
       "      <th>617784</th>\n",
       "      <td>2013-02-13</td>\n",
       "      <td>33.8000</td>\n",
       "      <td>33.8000</td>\n",
       "      <td>33.0000</td>\n",
       "      <td>33.5500</td>\n",
       "      <td>1269625</td>\n",
       "      <td>ZTS</td>\n",
       "    </tr>\n",
       "    <tr>\n",
       "      <th>617785</th>\n",
       "      <td>2013-02-14</td>\n",
       "      <td>33.3900</td>\n",
       "      <td>33.4500</td>\n",
       "      <td>32.7700</td>\n",
       "      <td>33.2700</td>\n",
       "      <td>2954324</td>\n",
       "      <td>ZTS</td>\n",
       "    </tr>\n",
       "  </tbody>\n",
       "</table>\n",
       "<p>2525 rows × 7 columns</p>\n",
       "</div>"
      ],
      "text/plain": [
       "              date     open     high      low    close     volume  Name\n",
       "0       2013-02-08  15.0700  15.1200  14.6300  14.7500    8407500   AAL\n",
       "1       2013-02-11  14.8900  15.0100  14.2600  14.4600    8882000   AAL\n",
       "2       2013-02-12  14.4500  14.5100  14.1000  14.2700    8126000   AAL\n",
       "3       2013-02-13  14.3000  14.9400  14.2500  14.6600   10259500   AAL\n",
       "4       2013-02-14  14.9400  14.9600  13.1600  13.9900   31879900   AAL\n",
       "1259    2013-02-08  67.7142  68.4014  66.8928  67.8542  158168416  AAPL\n",
       "1260    2013-02-11  68.0714  69.2771  67.6071  68.5614  129029425  AAPL\n",
       "1261    2013-02-12  68.5014  68.9114  66.8205  66.8428  151829363  AAPL\n",
       "1262    2013-02-13  66.7442  67.6628  66.1742  66.7156  118721995  AAPL\n",
       "1263    2013-02-14  66.3599  67.3771  66.2885  66.6556   88809154  AAPL\n",
       "2518    2013-02-08  78.3400  79.7200  78.0100  78.9000    1298137   AAP\n",
       "2519    2013-02-11  78.6500  78.9100  77.2300  78.3900     758016   AAP\n",
       "2520    2013-02-12  78.3900  78.6300  77.5132  78.6000     876859   AAP\n",
       "2521    2013-02-13  78.9000  79.1300  77.8500  78.9700    1038574   AAP\n",
       "2522    2013-02-14  78.6600  79.7200  78.5850  78.8400    1005376   AAP\n",
       "3777    2013-02-08  36.3700  36.4200  35.8250  36.2500   13858795  ABBV\n",
       "3778    2013-02-11  36.1300  36.1800  35.7500  35.8500    6031957  ABBV\n",
       "3779    2013-02-12  35.7700  35.9000  35.2000  35.4200    7473991  ABBV\n",
       "3780    2013-02-13  35.4200  35.5700  35.1500  35.2700    4860053  ABBV\n",
       "3781    2013-02-14  35.0500  36.7300  35.0100  36.5700    7570052  ABBV\n",
       "5036    2013-02-08  46.5200  46.8950  46.4600  46.8900    1232802   ABC\n",
       "5037    2013-02-11  46.8500  47.0000  46.5000  46.7600    1115888   ABC\n",
       "5038    2013-02-12  46.7000  47.0500  46.6000  46.9600    1318773   ABC\n",
       "5039    2013-02-13  46.7400  46.9000  46.6000  46.6400    2645247   ABC\n",
       "5040    2013-02-14  46.6700  46.9900  46.6000  46.7700    1941879   ABC\n",
       "6295    2013-02-08  34.3900  34.6600  34.2900  34.4100   10237828   ABT\n",
       "6296    2013-02-11  34.4200  34.4900  34.2400  34.2600    7928236   ABT\n",
       "6297    2013-02-12  34.2700  34.5000  34.2100  34.3000    7070536   ABT\n",
       "6298    2013-02-13  34.2900  34.5800  34.2500  34.4600    6688100   ABT\n",
       "6299    2013-02-14  34.2800  34.7500  34.2800  34.7000    8561425   ABT\n",
       "...            ...      ...      ...      ...      ...        ...   ...\n",
       "611486  2013-02-08  32.0800  32.1200  31.7000  31.8400    1702218   XRX\n",
       "611487  2013-02-11  31.9200  32.0200  31.8000  31.9600    1475369   XRX\n",
       "611488  2013-02-12  32.0400  32.1200  31.8000  31.8400    1888523   XRX\n",
       "611489  2013-02-13  31.9600  32.1200  31.7600  32.0000    2863447   XRX\n",
       "611490  2013-02-14  31.8400  32.2400  31.8004  32.1200    1594884   XRX\n",
       "612745  2013-02-08  27.0100  27.6400  27.0100  27.0900    1206284   XYL\n",
       "612746  2013-02-11  27.1100  27.5300  27.0200  27.4600     875010   XYL\n",
       "612747  2013-02-12  27.5200  28.1000  27.4800  27.9500     904935   XYL\n",
       "612748  2013-02-13  28.0000  28.3700  27.9400  28.2600     622205   XYL\n",
       "612749  2013-02-14  28.2200  28.6150  28.2050  28.4700     927050   XYL\n",
       "614004  2013-02-08  63.7000  65.4900  63.6600  65.3000    7190051   YUM\n",
       "614005  2013-02-11  65.1600  65.1900  64.4800  64.5500    5352531   YUM\n",
       "614006  2013-02-12  64.5800  65.0600  64.0600  64.7500    4934311   YUM\n",
       "614007  2013-02-13  64.7700  64.9100  63.9500  64.4100    3999959   YUM\n",
       "614008  2013-02-14  64.2700  64.5360  63.7700  63.8900    3949356   YUM\n",
       "615263  2013-02-08  75.0200  75.9900  74.9600  75.8500     911179   ZBH\n",
       "615264  2013-02-11  75.7500  75.9800  75.3500  75.6500     665462   ZBH\n",
       "615265  2013-02-12  75.6500  75.8200  75.3500  75.4400    1048252   ZBH\n",
       "615266  2013-02-13  75.7400  76.7500  75.6600  76.0000     931746   ZBH\n",
       "615267  2013-02-14  75.8600  76.4000  75.7500  76.3400     860104   ZBH\n",
       "616522  2013-02-08  24.0300  24.2100  23.9500  24.1400    2104483  ZION\n",
       "616523  2013-02-11  24.1400  24.3000  23.9900  24.2100    1839686  ZION\n",
       "616524  2013-02-12  24.2800  24.5700  24.1400  24.4900    2603143  ZION\n",
       "616525  2013-02-13  24.5800  24.9200  24.4954  24.7400    2911880  ZION\n",
       "616526  2013-02-14  24.6800  24.7850  24.5100  24.6300    2789414  ZION\n",
       "617781  2013-02-08  32.3100  33.4800  32.3000  33.0500    2599232   ZTS\n",
       "617782  2013-02-11  33.0600  33.5000  32.8800  33.2600    1486115   ZTS\n",
       "617783  2013-02-12  33.4000  34.0000  33.1500  33.7400    1637279   ZTS\n",
       "617784  2013-02-13  33.8000  33.8000  33.0000  33.5500    1269625   ZTS\n",
       "617785  2013-02-14  33.3900  33.4500  32.7700  33.2700    2954324   ZTS\n",
       "\n",
       "[2525 rows x 7 columns]"
      ]
     },
     "execution_count": 18,
     "metadata": {},
     "output_type": "execute_result"
    }
   ],
   "source": [
    "df3.head()"
   ]
  },
  {
   "cell_type": "code",
   "execution_count": 19,
   "metadata": {},
   "outputs": [
    {
     "data": {
      "text/html": [
       "<div>\n",
       "<style>\n",
       "    .dataframe thead tr:only-child th {\n",
       "        text-align: right;\n",
       "    }\n",
       "\n",
       "    .dataframe thead th {\n",
       "        text-align: left;\n",
       "    }\n",
       "\n",
       "    .dataframe tbody tr th {\n",
       "        vertical-align: top;\n",
       "    }\n",
       "</style>\n",
       "<table border=\"1\" class=\"dataframe\">\n",
       "  <thead>\n",
       "    <tr style=\"text-align: right;\">\n",
       "      <th></th>\n",
       "      <th>date</th>\n",
       "      <th>open</th>\n",
       "      <th>high</th>\n",
       "      <th>low</th>\n",
       "      <th>close</th>\n",
       "      <th>volume</th>\n",
       "      <th>Name</th>\n",
       "    </tr>\n",
       "  </thead>\n",
       "  <tbody>\n",
       "    <tr>\n",
       "      <th>0</th>\n",
       "      <td>2013-02-08</td>\n",
       "      <td>15.07</td>\n",
       "      <td>15.12</td>\n",
       "      <td>14.63</td>\n",
       "      <td>14.75</td>\n",
       "      <td>8407500</td>\n",
       "      <td>AAL</td>\n",
       "    </tr>\n",
       "    <tr>\n",
       "      <th>1</th>\n",
       "      <td>2013-02-11</td>\n",
       "      <td>14.89</td>\n",
       "      <td>15.01</td>\n",
       "      <td>14.26</td>\n",
       "      <td>14.46</td>\n",
       "      <td>8882000</td>\n",
       "      <td>AAL</td>\n",
       "    </tr>\n",
       "    <tr>\n",
       "      <th>2</th>\n",
       "      <td>2013-02-12</td>\n",
       "      <td>14.45</td>\n",
       "      <td>14.51</td>\n",
       "      <td>14.10</td>\n",
       "      <td>14.27</td>\n",
       "      <td>8126000</td>\n",
       "      <td>AAL</td>\n",
       "    </tr>\n",
       "    <tr>\n",
       "      <th>3</th>\n",
       "      <td>2013-02-13</td>\n",
       "      <td>14.30</td>\n",
       "      <td>14.94</td>\n",
       "      <td>14.25</td>\n",
       "      <td>14.66</td>\n",
       "      <td>10259500</td>\n",
       "      <td>AAL</td>\n",
       "    </tr>\n",
       "    <tr>\n",
       "      <th>4</th>\n",
       "      <td>2013-02-14</td>\n",
       "      <td>14.94</td>\n",
       "      <td>14.96</td>\n",
       "      <td>13.16</td>\n",
       "      <td>13.99</td>\n",
       "      <td>31879900</td>\n",
       "      <td>AAL</td>\n",
       "    </tr>\n",
       "    <tr>\n",
       "      <th>5</th>\n",
       "      <td>2013-02-15</td>\n",
       "      <td>13.93</td>\n",
       "      <td>14.61</td>\n",
       "      <td>13.93</td>\n",
       "      <td>14.50</td>\n",
       "      <td>15628000</td>\n",
       "      <td>AAL</td>\n",
       "    </tr>\n",
       "    <tr>\n",
       "      <th>6</th>\n",
       "      <td>2013-02-19</td>\n",
       "      <td>14.33</td>\n",
       "      <td>14.56</td>\n",
       "      <td>14.08</td>\n",
       "      <td>14.26</td>\n",
       "      <td>11354400</td>\n",
       "      <td>AAL</td>\n",
       "    </tr>\n",
       "    <tr>\n",
       "      <th>7</th>\n",
       "      <td>2013-02-20</td>\n",
       "      <td>14.17</td>\n",
       "      <td>14.26</td>\n",
       "      <td>13.15</td>\n",
       "      <td>13.33</td>\n",
       "      <td>14725200</td>\n",
       "      <td>AAL</td>\n",
       "    </tr>\n",
       "    <tr>\n",
       "      <th>8</th>\n",
       "      <td>2013-02-21</td>\n",
       "      <td>13.62</td>\n",
       "      <td>13.95</td>\n",
       "      <td>12.90</td>\n",
       "      <td>13.37</td>\n",
       "      <td>11922100</td>\n",
       "      <td>AAL</td>\n",
       "    </tr>\n",
       "    <tr>\n",
       "      <th>9</th>\n",
       "      <td>2013-02-22</td>\n",
       "      <td>13.57</td>\n",
       "      <td>13.60</td>\n",
       "      <td>13.21</td>\n",
       "      <td>13.57</td>\n",
       "      <td>6071400</td>\n",
       "      <td>AAL</td>\n",
       "    </tr>\n",
       "  </tbody>\n",
       "</table>\n",
       "</div>"
      ],
      "text/plain": [
       "         date   open   high    low  close    volume Name\n",
       "0  2013-02-08  15.07  15.12  14.63  14.75   8407500  AAL\n",
       "1  2013-02-11  14.89  15.01  14.26  14.46   8882000  AAL\n",
       "2  2013-02-12  14.45  14.51  14.10  14.27   8126000  AAL\n",
       "3  2013-02-13  14.30  14.94  14.25  14.66  10259500  AAL\n",
       "4  2013-02-14  14.94  14.96  13.16  13.99  31879900  AAL\n",
       "5  2013-02-15  13.93  14.61  13.93  14.50  15628000  AAL\n",
       "6  2013-02-19  14.33  14.56  14.08  14.26  11354400  AAL\n",
       "7  2013-02-20  14.17  14.26  13.15  13.33  14725200  AAL\n",
       "8  2013-02-21  13.62  13.95  12.90  13.37  11922100  AAL\n",
       "9  2013-02-22  13.57  13.60  13.21  13.57   6071400  AAL"
      ]
     },
     "execution_count": 19,
     "metadata": {},
     "output_type": "execute_result"
    }
   ],
   "source": [
    "df4 = df[df[\"Name\"]==\"AAL\"]\n",
    "df4.head(10)"
   ]
  },
  {
   "cell_type": "code",
   "execution_count": 20,
   "metadata": {},
   "outputs": [
    {
     "name": "stdout",
     "output_type": "stream",
     "text": [
      "date      0\n",
      "open      0\n",
      "high      0\n",
      "low       0\n",
      "close     0\n",
      "volume    0\n",
      "Name      0\n",
      "dtype: int64\n"
     ]
    }
   ],
   "source": [
    "print(df4.isnull().sum())"
   ]
  },
  {
   "cell_type": "code",
   "execution_count": 21,
   "metadata": {},
   "outputs": [
    {
     "name": "stdout",
     "output_type": "stream",
     "text": [
      "0\n"
     ]
    }
   ],
   "source": [
    "col = df.columns\n",
    "total_sum = 0\n",
    "for col_name in col:\n",
    "    total_sum += df4.isnull().sum()[col_name]\n",
    "print(total_sum)"
   ]
  },
  {
   "cell_type": "code",
   "execution_count": 22,
   "metadata": {},
   "outputs": [
    {
     "name": "stdout",
     "output_type": "stream",
     "text": [
      "BHF\n",
      "date      0\n",
      "open      1\n",
      "high      1\n",
      "low       1\n",
      "close     0\n",
      "volume    0\n",
      "Name      0\n",
      "dtype: int64\n",
      "total nulls number: 3\n",
      "total item number: 143\n",
      "Perc: 0.020979020979 %\n",
      "==============================\n",
      "DHR\n",
      "date      0\n",
      "open      2\n",
      "high      1\n",
      "low       1\n",
      "close     0\n",
      "volume    0\n",
      "Name      0\n",
      "dtype: int64\n",
      "total nulls number: 4\n",
      "total item number: 1243\n",
      "Perc: 0.00321802091714 %\n",
      "==============================\n",
      "ES\n",
      "date      0\n",
      "open      1\n",
      "high      0\n",
      "low       0\n",
      "close     0\n",
      "volume    0\n",
      "Name      0\n",
      "dtype: int64\n",
      "total nulls number: 1\n",
      "total item number: 1249\n",
      "Perc: 0.00080064051241 %\n",
      "==============================\n",
      "FTV\n",
      "date      0\n",
      "open      1\n",
      "high      1\n",
      "low       1\n",
      "close     0\n",
      "volume    0\n",
      "Name      0\n",
      "dtype: int64\n",
      "total nulls number: 3\n",
      "total item number: 404\n",
      "Perc: 0.00742574257426 %\n",
      "==============================\n",
      "O\n",
      "date      0\n",
      "open      2\n",
      "high      1\n",
      "low       1\n",
      "close     0\n",
      "volume    0\n",
      "Name      0\n",
      "dtype: int64\n",
      "total nulls number: 4\n",
      "total item number: 1243\n",
      "Perc: 0.00321802091714 %\n",
      "==============================\n",
      "REGN\n",
      "date      0\n",
      "open      1\n",
      "high      1\n",
      "low       1\n",
      "close     0\n",
      "volume    0\n",
      "Name      0\n",
      "dtype: int64\n",
      "total nulls number: 3\n",
      "total item number: 1259\n",
      "Perc: 0.00238284352661 %\n",
      "==============================\n",
      "UA\n",
      "date      0\n",
      "open      1\n",
      "high      1\n",
      "low       1\n",
      "close     0\n",
      "volume    0\n",
      "Name      0\n",
      "dtype: int64\n",
      "total nulls number: 3\n",
      "total item number: 464\n",
      "Perc: 0.00646551724138 %\n",
      "==============================\n",
      "VRTX\n",
      "date      0\n",
      "open      1\n",
      "high      1\n",
      "low       1\n",
      "close     0\n",
      "volume    0\n",
      "Name      0\n",
      "dtype: int64\n",
      "total nulls number: 3\n",
      "total item number: 1259\n",
      "Perc: 0.00238284352661 %\n",
      "==============================\n",
      "WRK\n",
      "date      0\n",
      "open      1\n",
      "high      1\n",
      "low       1\n",
      "close     0\n",
      "volume    0\n",
      "Name      0\n",
      "dtype: int64\n",
      "total nulls number: 3\n",
      "total item number: 662\n",
      "Perc: 0.00453172205438 %\n",
      "==============================\n"
     ]
    }
   ],
   "source": [
    "col = df.columns\n",
    "for name in stockName:\n",
    "    total_sum = 0\n",
    "    df5 = df[df[\"Name\"]==name]\n",
    "    num_null = df5.isnull().sum()\n",
    "    total = df5.shape[0]\n",
    "    if num_null.open > 0 or num_null.high > 0 or num_null.low > 0:\n",
    "        for col_name in col:\n",
    "            total_sum += df5.isnull().sum()[col_name]\n",
    "        print(name)        \n",
    "        print(num_null)\n",
    "        print(\"total nulls number:\", total_sum)\n",
    "        print(\"total item number:\",total)\n",
    "        print(\"Perc:\", total_sum/total,\"%\")\n",
    "        print(\"==============================\")"
   ]
  },
  {
   "cell_type": "code",
   "execution_count": 23,
   "metadata": {
    "collapsed": true
   },
   "outputs": [],
   "source": [
    "df = df.dropna(axis=0)"
   ]
  },
  {
   "cell_type": "code",
   "execution_count": 24,
   "metadata": {},
   "outputs": [
    {
     "data": {
      "text/plain": [
       "date      0\n",
       "open      0\n",
       "high      0\n",
       "low       0\n",
       "close     0\n",
       "volume    0\n",
       "Name      0\n",
       "dtype: int64"
      ]
     },
     "execution_count": 24,
     "metadata": {},
     "output_type": "execute_result"
    }
   ],
   "source": [
    "df.isnull().sum()"
   ]
  },
  {
   "cell_type": "code",
   "execution_count": 25,
   "metadata": {},
   "outputs": [
    {
     "data": {
      "text/plain": [
       "date      619029\n",
       "open      619029\n",
       "high      619029\n",
       "low       619029\n",
       "close     619029\n",
       "volume    619029\n",
       "Name      619029\n",
       "dtype: int64"
      ]
     },
     "execution_count": 25,
     "metadata": {},
     "output_type": "execute_result"
    }
   ],
   "source": [
    "df.isnull().count()"
   ]
  },
  {
   "cell_type": "code",
   "execution_count": 26,
   "metadata": {},
   "outputs": [
    {
     "name": "stdout",
     "output_type": "stream",
     "text": [
      "old size: [6.0, 4.0]\n",
      "new size: [15.0, 8.0]\n"
     ]
    }
   ],
   "source": [
    "fig_size = plt.rcParams[\"figure.figsize\"] #loads current figure size\n",
    "print('old size:',fig_size) #prints the size\n",
    "fig_size[0] = 15 #sets the X size to 15\n",
    "fig_size[1] = 8 #sets the Y size to 8\n",
    "plt.rcParams[\"figure.figsize\"] = fig_size #sets this numbers to the new size\n",
    "fig_size = plt.rcParams[\"figure.figsize\"] #loads the figure size for checking\n",
    "print ('new size:',fig_size) #prints the figure size"
   ]
  },
  {
   "cell_type": "code",
   "execution_count": 27,
   "metadata": {},
   "outputs": [
    {
     "data": {
      "image/png": "[encoded data removed]",
      "text/plain": [
       "<matplotlib.figure.Figure at 0x26720905f28>"
      ]
     },
     "metadata": {},
     "output_type": "display_data"
    }
   ],
   "source": [
    "import datetime as dt\n",
    "import matplotlib.dates as mdates #used for dates, in a different way\n",
    "\n",
    "stock = 'AMZN' #edit the stock name to view other stocks. see the cell above with a list of stocknames\n",
    "catagory = 'high' #edit this to change which value is plotted (see allstock.columns cell for options)\n",
    "allstocksingle = df[df['Name'] == stock] #makes matrix with only the stock info\n",
    "\n",
    "# singlestock = allstocksingle.set_index(\"date\")\n",
    "# singlestock.head()\n",
    "# fig,ax1 = plt.subplots(figsize=(20, 10))\n",
    "# plt.plot(singlestock['high'])\n",
    "# plt.show()\n",
    "\n",
    "x = [dt.datetime.strptime(d,'%Y-%m-%d').date() for d in allstocksingle['date']] #convert date to something python understands\n",
    "y = allstocksingle[catagory] #plots which ever catagory you entered above\n",
    "\n",
    "plt.gca().xaxis.set_major_formatter(mdates.DateFormatter('%m/%d/%Y')) #display the date properly\n",
    "plt.gca().xaxis.set_major_locator(mdates.DayLocator(interval=60)) #x axis tick every 60 days\n",
    "plt.gca().yaxis.set_major_locator(ticker.MultipleLocator(100)) # sets y axis tick spacing to 100\n",
    "\n",
    "plt.plot(x,y) #plots the x and y\n",
    "plt.grid(True) #turns on axis grid\n",
    "plt.ylim(0) #sets the y axis min to zero\n",
    "plt.xticks(rotation=90,fontsize = 10) #rotates the x axis ticks 90 degress and font size 10\n",
    "plt.title(stock) #prints the title on the top\n",
    "plt.ylabel('Stock Price For '+ catagory) #labels y axis\n",
    "plt.xlabel('Date') #labels x axis\n",
    "plt.show()"
   ]
  },
  {
   "cell_type": "code",
   "execution_count": 28,
   "metadata": {},
   "outputs": [
    {
     "data": {
      "text/html": [
       "<div>\n",
       "<style>\n",
       "    .dataframe thead tr:only-child th {\n",
       "        text-align: right;\n",
       "    }\n",
       "\n",
       "    .dataframe thead th {\n",
       "        text-align: left;\n",
       "    }\n",
       "\n",
       "    .dataframe tbody tr th {\n",
       "        vertical-align: top;\n",
       "    }\n",
       "</style>\n",
       "<table border=\"1\" class=\"dataframe\">\n",
       "  <thead>\n",
       "    <tr style=\"text-align: right;\">\n",
       "      <th></th>\n",
       "      <th>open</th>\n",
       "      <th>high</th>\n",
       "      <th>low</th>\n",
       "      <th>close</th>\n",
       "      <th>volume</th>\n",
       "      <th>Name</th>\n",
       "    </tr>\n",
       "    <tr>\n",
       "      <th>date</th>\n",
       "      <th></th>\n",
       "      <th></th>\n",
       "      <th></th>\n",
       "      <th></th>\n",
       "      <th></th>\n",
       "      <th></th>\n",
       "    </tr>\n",
       "  </thead>\n",
       "  <tbody>\n",
       "    <tr>\n",
       "      <th>2013-02-08</th>\n",
       "      <td>261.40</td>\n",
       "      <td>265.25</td>\n",
       "      <td>260.555</td>\n",
       "      <td>261.95</td>\n",
       "      <td>3879078</td>\n",
       "      <td>AMZN</td>\n",
       "    </tr>\n",
       "    <tr>\n",
       "      <th>2013-02-11</th>\n",
       "      <td>263.20</td>\n",
       "      <td>263.25</td>\n",
       "      <td>256.600</td>\n",
       "      <td>257.21</td>\n",
       "      <td>3403403</td>\n",
       "      <td>AMZN</td>\n",
       "    </tr>\n",
       "    <tr>\n",
       "      <th>2013-02-12</th>\n",
       "      <td>259.19</td>\n",
       "      <td>260.16</td>\n",
       "      <td>257.000</td>\n",
       "      <td>258.70</td>\n",
       "      <td>2938660</td>\n",
       "      <td>AMZN</td>\n",
       "    </tr>\n",
       "    <tr>\n",
       "      <th>2013-02-13</th>\n",
       "      <td>261.53</td>\n",
       "      <td>269.96</td>\n",
       "      <td>260.300</td>\n",
       "      <td>269.47</td>\n",
       "      <td>5292996</td>\n",
       "      <td>AMZN</td>\n",
       "    </tr>\n",
       "    <tr>\n",
       "      <th>2013-02-14</th>\n",
       "      <td>267.37</td>\n",
       "      <td>270.65</td>\n",
       "      <td>265.400</td>\n",
       "      <td>269.24</td>\n",
       "      <td>3462780</td>\n",
       "      <td>AMZN</td>\n",
       "    </tr>\n",
       "  </tbody>\n",
       "</table>\n",
       "</div>"
      ],
      "text/plain": [
       "              open    high      low   close   volume  Name\n",
       "date                                                      \n",
       "2013-02-08  261.40  265.25  260.555  261.95  3879078  AMZN\n",
       "2013-02-11  263.20  263.25  256.600  257.21  3403403  AMZN\n",
       "2013-02-12  259.19  260.16  257.000  258.70  2938660  AMZN\n",
       "2013-02-13  261.53  269.96  260.300  269.47  5292996  AMZN\n",
       "2013-02-14  267.37  270.65  265.400  269.24  3462780  AMZN"
      ]
     },
     "execution_count": 28,
     "metadata": {},
     "output_type": "execute_result"
    }
   ],
   "source": [
    "singlestock = allstocksingle.set_index(\"date\")\n",
    "singlestock.head()"
   ]
  },
  {
   "cell_type": "code",
   "execution_count": 29,
   "metadata": {},
   "outputs": [
    {
     "data": {
      "text/plain": [
       "Index(['2013-02-08', '2013-02-11', '2013-02-12', '2013-02-13', '2013-02-14',\n",
       "       '2013-02-15', '2013-02-19', '2013-02-20', '2013-02-21', '2013-02-22',\n",
       "       ...\n",
       "       '2018-01-25', '2018-01-26', '2018-01-29', '2018-01-30', '2018-01-31',\n",
       "       '2018-02-01', '2018-02-02', '2018-02-05', '2018-02-06', '2018-02-07'],\n",
       "      dtype='object', name='date', length=1259)"
      ]
     },
     "execution_count": 29,
     "metadata": {},
     "output_type": "execute_result"
    }
   ],
   "source": [
    "singlestock.index"
   ]
  },
  {
   "cell_type": "code",
   "execution_count": 30,
   "metadata": {},
   "outputs": [
    {
     "data": {
      "text/plain": [
       "date\n",
       "2013-02-08    265.25\n",
       "2013-02-11    263.25\n",
       "2013-02-12    260.16\n",
       "2013-02-13    269.96\n",
       "2013-02-14    270.65\n",
       "2013-02-15    268.92\n",
       "2013-02-19    270.11\n",
       "2013-02-20    274.30\n",
       "2013-02-21    269.48\n",
       "2013-02-22    267.11\n",
       "Name: high, dtype: float64"
      ]
     },
     "execution_count": 30,
     "metadata": {},
     "output_type": "execute_result"
    }
   ],
   "source": [
    "ts = singlestock[\"high\"]\n",
    "ts.head(10)"
   ]
  },
  {
   "cell_type": "code",
   "execution_count": 31,
   "metadata": {},
   "outputs": [
    {
     "name": "stderr",
     "output_type": "stream",
     "text": [
      "C:\\Users\\space\\Anaconda3\\lib\\site-packages\\statsmodels\\compat\\pandas.py:56: FutureWarning: The pandas.core.datetools module is deprecated and will be removed in a future version. Please use the pandas.tseries module instead.\n",
      "  from pandas.core import datetools\n"
     ]
    }
   ],
   "source": [
    "from statsmodels.tsa.stattools import adfuller\n",
    "from pandas.core import datetools\n",
    "def test_stationarity(timeseries):\n",
    "    \n",
    "    #Determing rolling statistics\n",
    "    rolmean = timeseries.rolling(window=5, center=False).mean()\n",
    "    rolstd = timeseries.rolling(window=5, center=False).std()\n",
    "\n",
    "    #Plot rolling statistics:\n",
    "    orig = plt.plot(timeseries, color='blue',label='Original')\n",
    "    mean = plt.plot(rolmean, color='red', label='Rolling Mean')\n",
    "    std = plt.plot(rolstd, color='black', label = 'Rolling Std')\n",
    "    plt.legend(loc='best')\n",
    "    plt.title('Rolling Mean & Standard Deviation')\n",
    "    plt.show(block=False)\n",
    "    \n",
    "    #Perform Dickey-Fuller test:\n",
    "    print('Results of Dickey-Fuller Test:')\n",
    "    dftest = adfuller(timeseries, autolag='AIC')\n",
    "    dfoutput = pd.Series(dftest[0:4], index=['Test Statistic','p-value','#Lags Used','Number of Observations Used'])\n",
    "    for key,value in dftest[4].items():\n",
    "        dfoutput['Critical Value (%s)'%key] = value\n",
    "    print(dfoutput)"
   ]
  },
  {
   "cell_type": "code",
   "execution_count": 32,
   "metadata": {},
   "outputs": [
    {
     "data": {
      "image/png": "[encoded data removed]",
      "text/plain": [
       "<matplotlib.figure.Figure at 0x267212b9a20>"
      ]
     },
     "metadata": {},
     "output_type": "display_data"
    },
    {
     "name": "stdout",
     "output_type": "stream",
     "text": [
      "Results of Dickey-Fuller Test:\n",
      "Test Statistic                    2.705343\n",
      "p-value                           0.999087\n",
      "#Lags Used                        5.000000\n",
      "Number of Observations Used    1253.000000\n",
      "Critical Value (1%)              -3.435580\n",
      "Critical Value (5%)              -2.863849\n",
      "Critical Value (10%)             -2.568000\n",
      "dtype: float64\n"
     ]
    }
   ],
   "source": [
    "test_stationarity(ts)"
   ]
  },
  {
   "cell_type": "code",
   "execution_count": 33,
   "metadata": {},
   "outputs": [
    {
     "data": {
      "image/png": "[encoded data removed]",
      "text/plain": [
       "<matplotlib.figure.Figure at 0x26728d2c4a8>"
      ]
     },
     "metadata": {},
     "output_type": "display_data"
    }
   ],
   "source": [
    "ts_log = np.log(ts)\n",
    "plt.plot(ts_log)\n",
    "plt.show()"
   ]
  },
  {
   "cell_type": "code",
   "execution_count": 34,
   "metadata": {},
   "outputs": [
    {
     "data": {
      "text/plain": [
       "date\n",
       "2013-02-08    5.580673\n",
       "2013-02-11    5.573104\n",
       "2013-02-12    5.561297\n",
       "2013-02-13    5.598274\n",
       "2013-02-14    5.600826\n",
       "2013-02-15    5.594414\n",
       "2013-02-19    5.598829\n",
       "2013-02-20    5.614222\n",
       "2013-02-21    5.596494\n",
       "2013-02-22    5.587661\n",
       "Name: high, dtype: float64"
      ]
     },
     "execution_count": 34,
     "metadata": {},
     "output_type": "execute_result"
    }
   ],
   "source": [
    "ts_log.head(10)"
   ]
  },
  {
   "cell_type": "code",
   "execution_count": 35,
   "metadata": {},
   "outputs": [
    {
     "data": {
      "image/png": "[encoded data removed]",
      "text/plain": [
       "<matplotlib.figure.Figure at 0x26721e0a4a8>"
      ]
     },
     "metadata": {},
     "output_type": "display_data"
    },
    {
     "name": "stdout",
     "output_type": "stream",
     "text": [
      "Results of Dickey-Fuller Test:\n",
      "Test Statistic                -6.794228e+00\n",
      "p-value                        2.322916e-09\n",
      "#Lags Used                     2.300000e+01\n",
      "Number of Observations Used    1.230000e+03\n",
      "Critical Value (1%)           -3.435678e+00\n",
      "Critical Value (5%)           -2.863893e+00\n",
      "Critical Value (10%)          -2.568023e+00\n",
      "dtype: float64\n"
     ]
    }
   ],
   "source": [
    "rol_mean = ts_log.rolling(window=5).mean()\n",
    "rol_mean.dropna(inplace=True)\n",
    "ts_diff_1 = rol_mean.diff(1)\n",
    "ts_diff_1.dropna(inplace=True)\n",
    "test_stationarity(ts_diff_1)"
   ]
  },
  {
   "cell_type": "code",
   "execution_count": 36,
   "metadata": {},
   "outputs": [
    {
     "data": {
      "text/plain": [
       "date\n",
       "2013-02-14    5.582835\n",
       "2013-02-15    5.585583\n",
       "2013-02-19    5.590728\n",
       "2013-02-20    5.601313\n",
       "2013-02-21    5.600957\n",
       "2013-02-22    5.598324\n",
       "2013-02-25    5.598156\n",
       "2013-02-26    5.592089\n",
       "2013-02-27    5.585816\n",
       "2013-02-28    5.583967\n",
       "Name: high, dtype: float64"
      ]
     },
     "execution_count": 36,
     "metadata": {},
     "output_type": "execute_result"
    }
   ],
   "source": [
    "rol_mean.head(10)"
   ]
  },
  {
   "cell_type": "code",
   "execution_count": 37,
   "metadata": {},
   "outputs": [
    {
     "data": {
      "text/plain": [
       "date\n",
       "2013-02-15    0.002748\n",
       "2013-02-19    0.005145\n",
       "2013-02-20    0.010585\n",
       "2013-02-21   -0.000356\n",
       "2013-02-22   -0.002633\n",
       "2013-02-25   -0.000168\n",
       "2013-02-26   -0.006066\n",
       "2013-02-27   -0.006273\n",
       "2013-02-28   -0.001849\n",
       "2013-03-01   -0.000382\n",
       "Name: high, dtype: float64"
      ]
     },
     "execution_count": 37,
     "metadata": {},
     "output_type": "execute_result"
    }
   ],
   "source": [
    "ts_diff_1.head(10)"
   ]
  },
  {
   "cell_type": "code",
   "execution_count": 38,
   "metadata": {},
   "outputs": [
    {
     "name": "stdout",
     "output_type": "stream",
     "text": [
      "-9484.508743920152 -9469.10646276 -9478.71943258\n",
      "-10020.964174404031 -10005.5618932 -10015.1748631\n",
      "-10052.324083176034 -10031.7877083 -10044.6050014\n",
      "-10087.772368131422 -10062.1018995 -10078.1235159\n",
      "-10105.352175915947 -10074.5476136 -10093.7735532\n",
      "-10064.541084543845 -10044.0047097 -10056.8220028\n"
     ]
    }
   ],
   "source": [
    "import statsmodels.api as sm\n",
    "arma_mod20 = sm.tsa.ARMA(ts_diff_1,(0,1)).fit()\n",
    "print(arma_mod20.aic,arma_mod20.bic,arma_mod20.hqic)\n",
    "arma_mod30 = sm.tsa.ARMA(ts_diff_1,(1,0)).fit()\n",
    "print(arma_mod30.aic,arma_mod30.bic,arma_mod30.hqic)\n",
    "arma_mod40 = sm.tsa.ARMA(ts_diff_1,(1,1)).fit()\n",
    "print(arma_mod40.aic,arma_mod40.bic,arma_mod40.hqic)\n",
    "arma_mod50 = sm.tsa.ARMA(ts_diff_1,(2,1)).fit()\n",
    "print(arma_mod50.aic,arma_mod50.bic,arma_mod50.hqic)\n",
    "arma_mod60 = sm.tsa.ARMA(ts_diff_1,(2,2)).fit()\n",
    "print(arma_mod60.aic,arma_mod60.bic,arma_mod60.hqic)\n",
    "arma_mod70 = sm.tsa.ARMA(ts_diff_1,(2,0)).fit()\n",
    "print(arma_mod70.aic,arma_mod70.bic,arma_mod70.hqic)"
   ]
  },
  {
   "cell_type": "code",
   "execution_count": 39,
   "metadata": {
    "collapsed": true
   },
   "outputs": [],
   "source": [
    "from statsmodels.tsa.arima_model import ARMA\n",
    "model = ARMA(ts_diff_1, order=(2, 1)) \n",
    "result_arma = model.fit( disp=-1, method='css')"
   ]
  },
  {
   "cell_type": "code",
   "execution_count": 40,
   "metadata": {
    "collapsed": true
   },
   "outputs": [],
   "source": [
    "predict_ts = result_arma.predict()  # predict_ts is a Series indexed by date\n",
    "# # 一阶差分还原\n",
    "rol_shift_ts = rol_mean.shift(1)\n",
    "diff_recover = predict_ts.add(rol_shift_ts)\n",
    "# 移动平均还原\n",
    "rol_sum = ts_log.rolling(window=4).sum()\n",
    "rol_recover = diff_recover*5 - rol_sum.shift(1)\n",
    "# 对数还原\n",
    "log_recover = np.exp(rol_recover)\n",
    "log_recover.dropna(inplace=True)"
   ]
  },
  {
   "cell_type": "code",
   "execution_count": 41,
   "metadata": {},
   "outputs": [
    {
     "data": {
      "text/plain": [
       "date\n",
       "2018-02-01    0.008932\n",
       "2018-02-02    0.008647\n",
       "2018-02-05    0.010292\n",
       "2018-02-06    0.001173\n",
       "2018-02-07   -0.000777\n",
       "dtype: float64"
      ]
     },
     "execution_count": 41,
     "metadata": {},
     "output_type": "execute_result"
    }
   ],
   "source": [
    "predict_ts.tail()"
   ]
  },
  {
   "cell_type": "code",
   "execution_count": 121,
   "metadata": {},
   "outputs": [
    {
     "name": "stdout",
     "output_type": "stream",
     "text": [
      "2018-02-08   -0.002036\n",
      "2018-02-09   -0.001793\n",
      "2018-02-10   -0.001195\n",
      "2018-02-11   -0.000486\n",
      "2018-02-12    0.000180\n",
      "2018-02-13    0.000723\n",
      "2018-02-14    0.001118\n",
      "2018-02-15    0.001371\n",
      "2018-02-16    0.001508\n",
      "2018-02-17    0.001558\n",
      "Freq: D, dtype: float64\n"
     ]
    }
   ],
   "source": [
    "### Calculate the forecast of the model\n",
    "forecast_ts = result_arma.forecast(steps=10)\n",
    "# print(forecast_ts[0])\n",
    "### Append the forecasting values at the end of the predict values\n",
    "date_ext = pd.date_range(start='2018-02-08', end='2018-02-17', freq='D')\n",
    "pred_ts = pd.Series(forecast_ts[0], index=date_ext)\n",
    "print(pred_ts)"
   ]
  },
  {
   "cell_type": "markdown",
   "metadata": {},
   "source": [
    "##############Recover the forecasting values back to original values################"
   ]
  },
  {
   "cell_type": "code",
   "execution_count": 122,
   "metadata": {},
   "outputs": [
    {
     "name": "stdout",
     "output_type": "stream",
     "text": [
      "2018-02-08    7.287069\n",
      "2018-02-09    7.285276\n",
      "2018-02-10    7.284080\n",
      "2018-02-11    7.283594\n",
      "2018-02-12    7.283774\n",
      "2018-02-13    7.284497\n",
      "2018-02-14    7.285615\n",
      "2018-02-15    7.286986\n",
      "2018-02-16    7.288494\n",
      "2018-02-17    7.290052\n",
      "Freq: D, dtype: float64\n"
     ]
    }
   ],
   "source": [
    "# recover diff\n",
    "date_ext = pd.date_range(start='2018-02-08', end='2018-02-17', freq='D')\n",
    "ser = np.zeros(10)\n",
    "diff_recover_ext = pd.Series(ser, index=date_ext)\n",
    "last_val = rol_mean[-1]\n",
    "for i in range(10,0, -1):\n",
    "    diff_recover_ext[-i] = last_val + pred_ts[10-i]\n",
    "    last_val += pred_ts[10-i]\n",
    "print(diff_recover_ext)"
   ]
  },
  {
   "cell_type": "code",
   "execution_count": 129,
   "metadata": {},
   "outputs": [
    {
     "name": "stdout",
     "output_type": "stream",
     "text": [
      "2018-02-08    7.275930\n",
      "2018-02-09    7.302920\n",
      "2018-02-10    7.279517\n",
      "2018-02-11    7.272733\n",
      "2018-02-12    7.287768\n",
      "2018-02-13    7.279546\n",
      "2018-02-14    7.308511\n",
      "2018-02-15    7.286373\n",
      "2018-02-16    7.280271\n",
      "2018-02-17    7.295559\n",
      "Freq: D, dtype: float64\n"
     ]
    }
   ],
   "source": [
    "# recover shift\n",
    "date_ext = pd.date_range(start='2018-02-08', end='2018-02-17', freq='D')\n",
    "ser = np.zeros(10)\n",
    "ts_log_ext = pd.Series(ser, index=date_ext)\n",
    "L1 = ts_log[-1]\n",
    "L2 = ts_log[-2]\n",
    "L3 = ts_log[-3]\n",
    "L4 = ts_log[-4]\n",
    "# print(L1, L2, L3, L4)\n",
    "\n",
    "ts_log_ext[0] = 5 * diff_recover_ext[0] - (L1 + L2 + L3 + L4)\n",
    "ts_log_ext[1] = 5 * diff_recover_ext[1] - ts_log_ext[0] - (L1 + L2 + L3)\n",
    "ts_log_ext[2] = 5 * diff_recover_ext[2] - ts_log_ext[1] - ts_log_ext[0] - (L1 + L2)\n",
    "ts_log_ext[3] = 5 * diff_recover_ext[3] - ts_log_ext[2] - ts_log_ext[1] - ts_log_ext[0] - L1\n",
    "for i in range(4, 10):\n",
    "    ts_log_ext[i] = 5*diff_recover_ext[i] - ts_log_ext[i-1] - ts_log_ext[i-2] - ts_log_ext[i-3] - ts_log_ext[i-4]\n",
    "\n",
    "print(ts_log_ext)"
   ]
  },
  {
   "cell_type": "code",
   "execution_count": 112,
   "metadata": {},
   "outputs": [
    {
     "name": "stdout",
     "output_type": "stream",
     "text": [
      "2018-02-08    1445.094078\n",
      "2018-02-09    1484.628867\n",
      "2018-02-10    1450.287577\n",
      "2018-02-11    1440.482493\n",
      "2018-02-12    1462.302668\n",
      "2018-02-13    1450.329670\n",
      "2018-02-14    1492.952056\n",
      "2018-02-15    1460.265115\n",
      "2018-02-16    1451.381603\n",
      "2018-02-17    1473.741008\n",
      "Freq: D, dtype: float64\n"
     ]
    }
   ],
   "source": [
    "# recover log\n",
    "log_recover_ext = np.exp(ts_log_ext)\n",
    "log_recover_ext.dropna(inplace=True)\n",
    "print(log_recover_ext)"
   ]
  },
  {
   "cell_type": "code",
   "execution_count": 113,
   "metadata": {},
   "outputs": [
    {
     "data": {
      "text/plain": [
       "date\n",
       "2013-02-20    267.981937\n",
       "2013-02-21    283.991741\n",
       "2013-02-22    268.711613\n",
       "2013-02-25    265.213439\n",
       "2013-02-26    270.437216\n",
       "2013-02-27    267.003768\n",
       "2013-02-28    263.008076\n",
       "2013-03-01    266.738387\n",
       "2013-03-04    269.690706\n",
       "2013-03-05    267.329040\n",
       "2013-03-06    280.166324\n",
       "2013-03-07    275.710533\n",
       "2013-03-08    272.297766\n",
       "2013-03-11    280.409934\n",
       "2013-03-12    275.814410\n",
       "dtype: float64"
      ]
     },
     "execution_count": 113,
     "metadata": {},
     "output_type": "execute_result"
    }
   ],
   "source": [
    "log_recover.head(15)"
   ]
  },
  {
   "cell_type": "code",
   "execution_count": 84,
   "metadata": {},
   "outputs": [
    {
     "data": {
      "text/plain": [
       "date\n",
       "2013-02-20    0.005925\n",
       "2013-02-21    0.010134\n",
       "2013-02-22   -0.001438\n",
       "2013-02-25   -0.002776\n",
       "2013-02-26    0.000242\n",
       "dtype: float64"
      ]
     },
     "execution_count": 84,
     "metadata": {},
     "output_type": "execute_result"
    }
   ],
   "source": [
    "predict_ts.head()"
   ]
  },
  {
   "cell_type": "code",
   "execution_count": 85,
   "metadata": {},
   "outputs": [
    {
     "data": {
      "text/plain": [
       "date\n",
       "2013-02-20    267.981937\n",
       "2013-02-21    283.991741\n",
       "2013-02-22    268.711613\n",
       "2013-02-25    265.213439\n",
       "2013-02-26    270.437216\n",
       "2013-02-27    267.003768\n",
       "2013-02-28    263.008076\n",
       "2013-03-01    266.738387\n",
       "2013-03-04    269.690706\n",
       "2013-03-05    267.329040\n",
       "2013-03-06    280.166324\n",
       "2013-03-07    275.710533\n",
       "2013-03-08    272.297766\n",
       "2013-03-11    280.409934\n",
       "2013-03-12    275.814410\n",
       "dtype: float64"
      ]
     },
     "execution_count": 85,
     "metadata": {},
     "output_type": "execute_result"
    }
   ],
   "source": [
    "log_recover.head(15)"
   ]
  },
  {
   "cell_type": "code",
   "execution_count": 86,
   "metadata": {},
   "outputs": [
    {
     "data": {
      "text/plain": [
       "DatetimeIndex(['2013-02-20', '2013-02-21', '2013-02-22', '2013-02-25',\n",
       "               '2013-02-26', '2013-02-27', '2013-02-28', '2013-03-01',\n",
       "               '2013-03-04', '2013-03-05',\n",
       "               ...\n",
       "               '2018-01-25', '2018-01-26', '2018-01-29', '2018-01-30',\n",
       "               '2018-01-31', '2018-02-01', '2018-02-02', '2018-02-05',\n",
       "               '2018-02-06', '2018-02-07'],\n",
       "              dtype='datetime64[ns]', name='date', length=1252, freq=None)"
      ]
     },
     "execution_count": 86,
     "metadata": {},
     "output_type": "execute_result"
    }
   ],
   "source": [
    "log_recover.index"
   ]
  },
  {
   "cell_type": "code",
   "execution_count": 87,
   "metadata": {},
   "outputs": [
    {
     "data": {
      "text/plain": [
       "date\n",
       "2013-02-08          NaN\n",
       "2013-02-11          NaN\n",
       "2013-02-12          NaN\n",
       "2013-02-13          NaN\n",
       "2013-02-14          NaN\n",
       "2013-02-15          NaN\n",
       "2013-02-19          NaN\n",
       "2013-02-20    -6.318063\n",
       "2013-02-21    14.511741\n",
       "2013-02-22     1.601613\n",
       "2013-02-25    -3.480561\n",
       "2013-02-26     8.397216\n",
       "2013-02-27     1.173768\n",
       "2013-02-28    -3.991924\n",
       "2013-03-01     0.138387\n",
       "2013-03-04    -3.609294\n",
       "2013-03-05    -9.350960\n",
       "2013-03-06     3.677324\n",
       "2013-03-07     0.910533\n",
       "2013-03-08    -3.142234\n",
       "dtype: float64"
      ]
     },
     "execution_count": 87,
     "metadata": {},
     "output_type": "execute_result"
    }
   ],
   "source": [
    "(log_recover-ts).head(20)\n",
    "# ts.head(20)"
   ]
  },
  {
   "cell_type": "code",
   "execution_count": 88,
   "metadata": {},
   "outputs": [
    {
     "data": {
      "text/plain": [
       "date\n",
       "2013-02-20    -6.318063\n",
       "2013-02-21    14.511741\n",
       "2013-02-22     1.601613\n",
       "2013-02-25    -3.480561\n",
       "2013-02-26     8.397216\n",
       "dtype: float64"
      ]
     },
     "execution_count": 88,
     "metadata": {},
     "output_type": "execute_result"
    }
   ],
   "source": [
    "pred_diff = log_recover-ts\n",
    "pred_diff.dropna(inplace=True)\n",
    "pred_diff.head()"
   ]
  },
  {
   "cell_type": "code",
   "execution_count": 89,
   "metadata": {},
   "outputs": [
    {
     "data": {
      "text/plain": [
       "DatetimeIndex(['2013-02-20', '2013-02-21', '2013-02-22', '2013-02-25',\n",
       "               '2013-02-26', '2013-02-27', '2013-02-28', '2013-03-01',\n",
       "               '2013-03-04', '2013-03-05',\n",
       "               ...\n",
       "               '2018-01-25', '2018-01-26', '2018-01-29', '2018-01-30',\n",
       "               '2018-01-31', '2018-02-01', '2018-02-02', '2018-02-05',\n",
       "               '2018-02-06', '2018-02-07'],\n",
       "              dtype='datetime64[ns]', name='date', length=1252, freq=None)"
      ]
     },
     "execution_count": 89,
     "metadata": {},
     "output_type": "execute_result"
    }
   ],
   "source": [
    "log_recover.index"
   ]
  },
  {
   "cell_type": "code",
   "execution_count": 90,
   "metadata": {},
   "outputs": [
    {
     "data": {
      "text/plain": [
       "Index(['2013-02-08', '2013-02-11', '2013-02-12', '2013-02-13', '2013-02-14',\n",
       "       '2013-02-15', '2013-02-19', '2013-02-20', '2013-02-21', '2013-02-22',\n",
       "       ...\n",
       "       '2018-01-25', '2018-01-26', '2018-01-29', '2018-01-30', '2018-01-31',\n",
       "       '2018-02-01', '2018-02-02', '2018-02-05', '2018-02-06', '2018-02-07'],\n",
       "      dtype='object', name='date', length=1259)"
      ]
     },
     "execution_count": 90,
     "metadata": {},
     "output_type": "execute_result"
    }
   ],
   "source": [
    "# ts.head(15)\n",
    "ts.index"
   ]
  },
  {
   "cell_type": "code",
   "execution_count": 53,
   "metadata": {
    "collapsed": true
   },
   "outputs": [],
   "source": [
    "# ts1 = ts[log_recover.index]  # 过滤没有预测的记录 it doesn't work!!!\n",
    "# ts1.head()"
   ]
  },
  {
   "cell_type": "code",
   "execution_count": 91,
   "metadata": {},
   "outputs": [
    {
     "name": "stdout",
     "output_type": "stream",
     "text": [
      "(1252,)\n",
      "(1252,)\n"
     ]
    },
    {
     "data": {
      "text/plain": [
       "date\n",
       "2013-02-20    274.300\n",
       "2013-02-21    269.480\n",
       "2013-02-22    267.110\n",
       "2013-02-25    268.694\n",
       "2013-02-26    262.040\n",
       "Name: high, dtype: float64"
      ]
     },
     "execution_count": 91,
     "metadata": {},
     "output_type": "execute_result"
    }
   ],
   "source": [
    "ts1 = ts.iloc[7:]\n",
    "print(ts1.shape)\n",
    "print(log_recover.shape)\n",
    "ts1.head()"
   ]
  },
  {
   "cell_type": "code",
   "execution_count": 254,
   "metadata": {},
   "outputs": [
    {
     "data": {
      "image/png": "[encoded data removed]",
      "text/plain": [
       "<matplotlib.figure.Figure at 0x1664e450ba8>"
      ]
     },
     "metadata": {},
     "output_type": "display_data"
    }
   ],
   "source": [
    "# plt.figure(facecolor='white')\n",
    "# plt.plot(log_recover, color='blue', label='Predict')\n",
    "# plt.plot(ts1, color='red', label='Original')\n",
    "# plt.legend(loc='best')\n",
    "# plt.title('RMSE: %.4f'% np.sqrt(sum((pred_diff)**2)/ts.size))\n",
    "# plt.show()\n",
    "\n",
    "x = [dt.datetime.strptime(d,'%Y-%m-%d').date() for d in ts1.index] #convert date to something python understands\n",
    "x_ext = [dt.datetime.strptime(d,'%Y-%m-%d').date() for d in ts1.tail(10).index] #convert date to sth python understands\n",
    "\n",
    "plt.gca().xaxis.set_major_formatter(mdates.DateFormatter('%m/%d/%Y')) #display the date properly\n",
    "plt.gca().xaxis.set_major_locator(mdates.DayLocator(interval=60)) #x axis tick every 60 days\n",
    "plt.gca().yaxis.set_major_locator(ticker.MultipleLocator(100)) # sets y axis tick spacing to 100\n",
    "\n",
    "plt.plot(x, log_recover, color='red', label='Predict')#plots the x and log_recover\n",
    "plt.plot(x, ts1, color='blue', label='Original') #plots the x and ts1\n",
    "plt.plot(x_ext, log_recover_ext, color='orange', label='Forecast')\n",
    "plt.grid(True) #turns on axis grid\n",
    "plt.ylim(0) #sets the y axis min to zero\n",
    "plt.xticks(rotation=90,fontsize = 10) #rotates the x axis ticks 90 degress and font size 10\n",
    "plt.title(stock) #prints the title on the top\n",
    "plt.ylabel('Stock Price For '+ catagory) #labels y axis\n",
    "plt.xlabel('Date') #labels x axis\n",
    "plt.show()"
   ]
  },
  {
   "cell_type": "code",
   "execution_count": 93,
   "metadata": {},
   "outputs": [
    {
     "name": "stdout",
     "output_type": "stream",
     "text": [
      "12.3165853491\n"
     ]
    },
    {
     "data": {
      "text/plain": [
       "date\n",
       "2013-02-20    -6.318063\n",
       "2013-02-21    14.511741\n",
       "2013-02-22     1.601613\n",
       "2013-02-25    -3.480561\n",
       "2013-02-26     8.397216\n",
       "dtype: float64"
      ]
     },
     "execution_count": 93,
     "metadata": {},
     "output_type": "execute_result"
    }
   ],
   "source": [
    "pred_diff = log_recover-ts1\n",
    "rmse = np.sqrt(sum((pred_diff)**2)/ts1.size)\n",
    "print(rmse)\n",
    "pred_diff.dropna(inplace=True)\n",
    "pred_diff.head()"
   ]
  },
  {
   "cell_type": "code",
   "execution_count": 94,
   "metadata": {},
   "outputs": [
    {
     "data": {
      "image/png": "[encoded data removed]",
      "text/plain": [
       "<matplotlib.figure.Figure at 0x1664e54c390>"
      ]
     },
     "metadata": {},
     "output_type": "display_data"
    }
   ],
   "source": [
    "plt.plot(ts1-log_recover)\n",
    "plt.show()"
   ]
  },
  {
   "cell_type": "code",
   "execution_count": 112,
   "metadata": {},
   "outputs": [
    {
     "data": {
      "text/plain": [
       "date\n",
       "2018-02-01    1459.88\n",
       "2018-02-02    1498.00\n",
       "2018-02-05    1458.98\n",
       "2018-02-06    1443.99\n",
       "2018-02-07    1460.99\n",
       "Name: high, dtype: float64"
      ]
     },
     "execution_count": 112,
     "metadata": {},
     "output_type": "execute_result"
    }
   ],
   "source": [
    "# ts1.head()\n",
    "ts1.tail()"
   ]
  },
  {
   "cell_type": "code",
   "execution_count": 256,
   "metadata": {},
   "outputs": [
    {
     "name": "stdout",
     "output_type": "stream",
     "text": [
      "2018-02-08    1291.386782\n",
      "2018-02-09    1301.280176\n",
      "2018-02-10    1319.541217\n",
      "2018-02-11    1361.584605\n",
      "2018-02-12    1389.407232\n",
      "2018-02-13    1383.333740\n",
      "2018-02-14    1410.392923\n",
      "2018-02-15    1441.237529\n",
      "2018-02-16    1450.139784\n",
      "2018-02-17    1484.098731\n",
      "Freq: D, dtype: float64\n"
     ]
    }
   ],
   "source": [
    "print(log_recover_ext)"
   ]
  },
  {
   "cell_type": "code",
   "execution_count": 258,
   "metadata": {},
   "outputs": [
    {
     "name": "stdout",
     "output_type": "stream",
     "text": [
      "date\n",
      "2018-01-25    1370.603105\n",
      "2018-01-26    1373.868922\n",
      "2018-01-29    1400.978766\n",
      "2018-01-30    1450.303242\n",
      "2018-01-31    1440.731879\n",
      "2018-02-01    1441.291583\n",
      "2018-02-02    1464.495464\n",
      "2018-02-05    1506.974967\n",
      "2018-02-06    1447.715698\n",
      "2018-02-07    1466.868784\n",
      "dtype: float64\n"
     ]
    }
   ],
   "source": [
    "print(log_recover.tail(10))"
   ]
  },
  {
   "cell_type": "code",
   "execution_count": 116,
   "metadata": {},
   "outputs": [
    {
     "data": {
      "image/png": "[encoded data removed]",
      "text/plain": [
       "<matplotlib.figure.Figure at 0x26726771a90>"
      ]
     },
     "metadata": {},
     "output_type": "display_data"
    }
   ],
   "source": [
    "plt.plot(log_recover.tail(200), color=\"blue\")\n",
    "plt.plot(log_recover_ext, color=\"red\")\n",
    "plt.show()"
   ]
  },
  {
   "cell_type": "code",
   "execution_count": null,
   "metadata": {
    "collapsed": true
   },
   "outputs": [],
   "source": []
  }
 ],
 "metadata": {
  "kernelspec": {
   "display_name": "Python 3",
   "language": "python",
   "name": "python3"
  },
  "language_info": {
   "codemirror_mode": {
    "name": "ipython",
    "version": 3
   },
   "file_extension": ".py",
   "mimetype": "text/x-python",
   "name": "python",
   "nbconvert_exporter": "python",
   "pygments_lexer": "ipython3",
   "version": "3.6.3"
  }
 },
 "nbformat": 4,
 "nbformat_minor": 2
}
