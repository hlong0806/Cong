import pandas as pdimport matplotlib.pyplot as pltimport numpy as npimport collectionsimport seaborn as snsfrom collections import Counter%matplotlib inline
import warningswarnings.filterwarnings("ignore")import statsmodels

## Drop the columns that contains nan values onlycol = df.columnsfor i in col:    ts_each = df[i]    if ts_each.isnull().sum() == len(ts_each):        df = df.drop([i], axis=1)df.head()

## Drop the columns that contains characters instead of numberscol = df.columns.drop(['BEGTIME'])for c in col:    ts_each = df[c]    ts_each = pd.to_numeric(ts_each, errors='coerce')    if ts_each.isnull().sum() == len(ts_each):        df = df.drop([c],axis=1)    else:        df[c] = ts_each            df.head()# df.dtypes

## Drop the columns that contains only one elementfrom collections import Counterfrom math import isnancol = df.columns.drop(['BEGTIME'])for c in col:    dict_each = Counter(df[c])    clean_dict = {k: dict_each[k] for k in dict_each if not isnan(k)}    if (len(Counter(clean_dict)) == 1):        df = df.drop([c], axis=1)df.head()

## Drop the columns that contains more than 99% missing values onlycol = df.columnsfor i in col:    ts_each = df[i]    if ts_each.isnull().sum() >= len(ts_each)*0.99:        df = df.drop([i], axis=1)df.head()

df['BEGTIME'] = df['BEGTIME'].apply(lambda time_str: time_str[:len(time_str)-7])df.head()
df["BEGTIME"] = pd.to_datetime(df["BEGTIME"], format="%d%b%Y:%H:%M", errors="coerce")
df1 = df.set_index("BEGTIME")df1.head()

subcols = df1.columnsfor i in subcols:    plt.figure(figsize=(15,8))    plt.plot(df1[i], color="red")    plt.title(i) #prints the title on the top    plt.ylabel('Values') #labels y axis    plt.xlabel('Date/Time') #labels x axis#     plt.savefig("i")
import matplotlib.backends.backend_pdfpdf = matplotlib.backends.backend_pdf.PdfPages("fig.pdf")for fig in range(1, plt.gcf().number+1): ## will open an empty extra figure :(    pdf.savefig( fig )pdf.close()
